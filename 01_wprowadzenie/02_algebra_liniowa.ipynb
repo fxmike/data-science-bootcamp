{
  "nbformat": 4,
  "nbformat_minor": 0,
  "metadata": {
    "colab": {
      "name": "02_algebra_liniowa.ipynb",
      "provenance": [],
      "authorship_tag": "ABX9TyORpDeoSpjx1Bc5ip2v5waJ",
      "include_colab_link": true
    },
    "kernelspec": {
      "name": "python3",
      "display_name": "Python 3"
    },
    "language_info": {
      "name": "python"
    }
  },
  "cells": [
    {
      "cell_type": "markdown",
      "metadata": {
        "id": "view-in-github",
        "colab_type": "text"
      },
      "source": [
        "<a href=\"https://colab.research.google.com/github/fxmike/data-science-bootcamp/blob/main/01_wprowadzenie/02_algebra_liniowa.ipynb\" target=\"_parent\"><img src=\"https://colab.research.google.com/assets/colab-badge.svg\" alt=\"Open In Colab\"/></a>"
      ]
    },
    {
      "cell_type": "code",
      "metadata": {
        "id": "421UfECHjicZ"
      },
      "source": [
        "import numpy as np"
      ],
      "execution_count": 31,
      "outputs": []
    },
    {
      "cell_type": "markdown",
      "metadata": {
        "id": "i4STssmCqEdo"
      },
      "source": [
        "norma wektora, długość wektora w R2"
      ]
    },
    {
      "cell_type": "code",
      "metadata": {
        "colab": {
          "base_uri": "https://localhost:8080/"
        },
        "id": "oIJ_BuqFjpDq",
        "outputId": "32c313db-ada8-48aa-b6d3-0d07355e1023"
      },
      "source": [
        "v1 = np.array([-1, 4])\n",
        "v1"
      ],
      "execution_count": 32,
      "outputs": [
        {
          "output_type": "execute_result",
          "data": {
            "text/plain": [
              "array([-1,  4])"
            ]
          },
          "metadata": {
            "tags": []
          },
          "execution_count": 32
        }
      ]
    },
    {
      "cell_type": "code",
      "metadata": {
        "colab": {
          "base_uri": "https://localhost:8080/"
        },
        "id": "KUvcaVI6p4Hn",
        "outputId": "8d56c5d7-d88a-4d95-9566-cdaf7211c661"
      },
      "source": [
        "np.linalg.norm(v1)"
      ],
      "execution_count": 33,
      "outputs": [
        {
          "output_type": "execute_result",
          "data": {
            "text/plain": [
              "4.123105625617661"
            ]
          },
          "metadata": {
            "tags": []
          },
          "execution_count": 33
        }
      ]
    },
    {
      "cell_type": "markdown",
      "metadata": {
        "id": "lsnLtCOAqG3Y"
      },
      "source": [
        "norma euklidesowa w R2"
      ]
    },
    {
      "cell_type": "code",
      "metadata": {
        "id": "v9CDeQoJp7e3"
      },
      "source": [
        "v2 = np.array([-10,10,13])"
      ],
      "execution_count": 34,
      "outputs": []
    },
    {
      "cell_type": "code",
      "metadata": {
        "colab": {
          "base_uri": "https://localhost:8080/"
        },
        "id": "cuzuUL4GqO5h",
        "outputId": "b84d9e8c-b5a0-4998-e216-51c5192e5477"
      },
      "source": [
        "np.linalg.norm(v2)"
      ],
      "execution_count": 35,
      "outputs": [
        {
          "output_type": "execute_result",
          "data": {
            "text/plain": [
              "19.209372712298546"
            ]
          },
          "metadata": {
            "tags": []
          },
          "execution_count": 35
        }
      ]
    },
    {
      "cell_type": "markdown",
      "metadata": {
        "id": "yaghLX3rqcks"
      },
      "source": [
        "odległość dwóch punktów na płaszczyźnie"
      ]
    },
    {
      "cell_type": "code",
      "metadata": {
        "id": "n0k4jtp7qRei"
      },
      "source": [
        "p = np.array([3,0])\n",
        "q = np.array([0,4])"
      ],
      "execution_count": 36,
      "outputs": []
    },
    {
      "cell_type": "code",
      "metadata": {
        "colab": {
          "base_uri": "https://localhost:8080/"
        },
        "id": "YqNW88SEqqek",
        "outputId": "81836cf9-f40a-4a18-8288-214623fd4638"
      },
      "source": [
        "np.linalg.norm(p-q)"
      ],
      "execution_count": 37,
      "outputs": [
        {
          "output_type": "execute_result",
          "data": {
            "text/plain": [
              "5.0"
            ]
          },
          "metadata": {
            "tags": []
          },
          "execution_count": 37
        }
      ]
    },
    {
      "cell_type": "code",
      "metadata": {
        "id": "KhDi3Y4pqt6c"
      },
      "source": [
        "p = np.array([3,0,1])\n",
        "q = np.array([0,4,2])"
      ],
      "execution_count": 38,
      "outputs": []
    },
    {
      "cell_type": "code",
      "metadata": {
        "colab": {
          "base_uri": "https://localhost:8080/"
        },
        "id": "OlqTpy3yq6Dt",
        "outputId": "55c2d94f-8c29-4613-8d4b-c38f0ed7fce1"
      },
      "source": [
        "np.linalg.norm(p-q)"
      ],
      "execution_count": 39,
      "outputs": [
        {
          "output_type": "execute_result",
          "data": {
            "text/plain": [
              "5.0990195135927845"
            ]
          },
          "metadata": {
            "tags": []
          },
          "execution_count": 39
        }
      ]
    },
    {
      "cell_type": "markdown",
      "metadata": {
        "id": "hUVKCTSiq-E9"
      },
      "source": [
        "mnożenie macierzy"
      ]
    },
    {
      "cell_type": "code",
      "metadata": {
        "id": "SeAMFqUfq67e"
      },
      "source": [
        "X = np.array([[5,3], [3,9]])\n",
        "Y = np.array([[1], [-1]])"
      ],
      "execution_count": 40,
      "outputs": []
    },
    {
      "cell_type": "code",
      "metadata": {
        "colab": {
          "base_uri": "https://localhost:8080/"
        },
        "id": "LM363ejgrjK2",
        "outputId": "31280428-a736-4b64-c081-050b07e48237"
      },
      "source": [
        "X"
      ],
      "execution_count": 41,
      "outputs": [
        {
          "output_type": "execute_result",
          "data": {
            "text/plain": [
              "array([[5, 3],\n",
              "       [3, 9]])"
            ]
          },
          "metadata": {
            "tags": []
          },
          "execution_count": 41
        }
      ]
    },
    {
      "cell_type": "code",
      "metadata": {
        "colab": {
          "base_uri": "https://localhost:8080/"
        },
        "id": "JDWJIQTRrjxm",
        "outputId": "bc040b5d-7149-4b63-aa90-151e7f27c683"
      },
      "source": [
        "Y"
      ],
      "execution_count": 42,
      "outputs": [
        {
          "output_type": "execute_result",
          "data": {
            "text/plain": [
              "array([[ 1],\n",
              "       [-1]])"
            ]
          },
          "metadata": {
            "tags": []
          },
          "execution_count": 42
        }
      ]
    },
    {
      "cell_type": "code",
      "metadata": {
        "id": "EtEUjm7vrkEW"
      },
      "source": [
        "Z = np.dot(X,Y)"
      ],
      "execution_count": 43,
      "outputs": []
    },
    {
      "cell_type": "code",
      "metadata": {
        "colab": {
          "base_uri": "https://localhost:8080/"
        },
        "id": "Q_QNliEArqB2",
        "outputId": "db4b87a3-ea04-4cfe-fc2c-f6f9c7edd499"
      },
      "source": [
        "Z"
      ],
      "execution_count": 44,
      "outputs": [
        {
          "output_type": "execute_result",
          "data": {
            "text/plain": [
              "array([[ 2],\n",
              "       [-6]])"
            ]
          },
          "metadata": {
            "tags": []
          },
          "execution_count": 44
        }
      ]
    },
    {
      "cell_type": "code",
      "metadata": {
        "colab": {
          "base_uri": "https://localhost:8080/"
        },
        "id": "PbJmWmhmrqgu",
        "outputId": "20197804-321a-4648-a706-df06da0d7908"
      },
      "source": [
        "Z.shape"
      ],
      "execution_count": 45,
      "outputs": [
        {
          "output_type": "execute_result",
          "data": {
            "text/plain": [
              "(2, 1)"
            ]
          },
          "metadata": {
            "tags": []
          },
          "execution_count": 45
        }
      ]
    },
    {
      "cell_type": "code",
      "metadata": {
        "id": "uR20KcAlrr4e"
      },
      "source": [
        "X = np.array([[2, -1, 3],\n",
        "              [3, 1, 0]])\n",
        "Y= np.array([[2, 1, -1],\n",
        "             [0, -1, 2],\n",
        "              [3, 2, 0]])"
      ],
      "execution_count": 46,
      "outputs": []
    },
    {
      "cell_type": "code",
      "metadata": {
        "colab": {
          "base_uri": "https://localhost:8080/"
        },
        "id": "Q4Wc4Hc3sUd3",
        "outputId": "60110226-513d-40c1-e3e8-b70001b766fc"
      },
      "source": [
        "X"
      ],
      "execution_count": 47,
      "outputs": [
        {
          "output_type": "execute_result",
          "data": {
            "text/plain": [
              "array([[ 2, -1,  3],\n",
              "       [ 3,  1,  0]])"
            ]
          },
          "metadata": {
            "tags": []
          },
          "execution_count": 47
        }
      ]
    },
    {
      "cell_type": "code",
      "metadata": {
        "colab": {
          "base_uri": "https://localhost:8080/"
        },
        "id": "kXImCSzgsZQX",
        "outputId": "c02e13fc-5da6-42db-d38b-f7899e2f3b7b"
      },
      "source": [
        "Y"
      ],
      "execution_count": 48,
      "outputs": [
        {
          "output_type": "execute_result",
          "data": {
            "text/plain": [
              "array([[ 2,  1, -1],\n",
              "       [ 0, -1,  2],\n",
              "       [ 3,  2,  0]])"
            ]
          },
          "metadata": {
            "tags": []
          },
          "execution_count": 48
        }
      ]
    },
    {
      "cell_type": "code",
      "metadata": {
        "colab": {
          "base_uri": "https://localhost:8080/"
        },
        "id": "ZRYgdNmJsZdn",
        "outputId": "f15a2f1a-6ff0-4cf0-fc3e-bfe221ce8bb6"
      },
      "source": [
        "np.dot(X, Y)"
      ],
      "execution_count": 49,
      "outputs": [
        {
          "output_type": "execute_result",
          "data": {
            "text/plain": [
              "array([[13,  9, -4],\n",
              "       [ 6,  2, -1]])"
            ]
          },
          "metadata": {
            "tags": []
          },
          "execution_count": 49
        }
      ]
    },
    {
      "cell_type": "markdown",
      "metadata": {
        "id": "e1WAJcQauZOx"
      },
      "source": [
        "wyznacznik macierzy"
      ]
    },
    {
      "cell_type": "code",
      "metadata": {
        "id": "G_20c6-Qsc-P"
      },
      "source": [
        "A = np.array([[2,4], [-1,3]])"
      ],
      "execution_count": 50,
      "outputs": []
    },
    {
      "cell_type": "code",
      "metadata": {
        "colab": {
          "base_uri": "https://localhost:8080/"
        },
        "id": "xAm8Lcx8v-ui",
        "outputId": "cde58061-bf84-4fa9-e840-07ad66e7a0a5"
      },
      "source": [
        "round(np.linalg.det(A))"
      ],
      "execution_count": 51,
      "outputs": [
        {
          "output_type": "execute_result",
          "data": {
            "text/plain": [
              "10"
            ]
          },
          "metadata": {
            "tags": []
          },
          "execution_count": 51
        }
      ]
    },
    {
      "cell_type": "markdown",
      "metadata": {
        "id": "iIjPnyGxwFax"
      },
      "source": [
        "ślad macierzy - suma przekątnych"
      ]
    },
    {
      "cell_type": "code",
      "metadata": {
        "id": "2QUZ9C_bwAtZ"
      },
      "source": [
        "A = np.array([[2,4], [-1,3]])"
      ],
      "execution_count": 52,
      "outputs": []
    },
    {
      "cell_type": "code",
      "metadata": {
        "colab": {
          "base_uri": "https://localhost:8080/"
        },
        "id": "axSmVhT0wMNR",
        "outputId": "45ab97e9-d4c8-41da-a03d-ffbc256a75bc"
      },
      "source": [
        "np.trace(A)"
      ],
      "execution_count": 53,
      "outputs": [
        {
          "output_type": "execute_result",
          "data": {
            "text/plain": [
              "5"
            ]
          },
          "metadata": {
            "tags": []
          },
          "execution_count": 53
        }
      ]
    },
    {
      "cell_type": "markdown",
      "metadata": {
        "id": "_CkKVNQ0wQn5"
      },
      "source": [
        "macierz jednostkowa"
      ]
    },
    {
      "cell_type": "code",
      "metadata": {
        "colab": {
          "base_uri": "https://localhost:8080/"
        },
        "id": "C-D7JmdbwOo5",
        "outputId": "b61697db-43bf-414f-9c59-208795b08689"
      },
      "source": [
        "np.eye(5, dtype='int')"
      ],
      "execution_count": 54,
      "outputs": [
        {
          "output_type": "execute_result",
          "data": {
            "text/plain": [
              "array([[1, 0, 0, 0, 0],\n",
              "       [0, 1, 0, 0, 0],\n",
              "       [0, 0, 1, 0, 0],\n",
              "       [0, 0, 0, 1, 0],\n",
              "       [0, 0, 0, 0, 1]])"
            ]
          },
          "metadata": {
            "tags": []
          },
          "execution_count": 54
        }
      ]
    },
    {
      "cell_type": "markdown",
      "metadata": {
        "id": "EndlWddTu8uA"
      },
      "source": [
        "macierz odwrotna"
      ]
    },
    {
      "cell_type": "code",
      "metadata": {
        "colab": {
          "base_uri": "https://localhost:8080/"
        },
        "id": "C-HOTseKuxG4",
        "outputId": "8a42ff20-2f51-4773-8a67-b2f6fde35003"
      },
      "source": [
        "A"
      ],
      "execution_count": 55,
      "outputs": [
        {
          "output_type": "execute_result",
          "data": {
            "text/plain": [
              "array([[ 2,  4],\n",
              "       [-1,  3]])"
            ]
          },
          "metadata": {
            "tags": []
          },
          "execution_count": 55
        }
      ]
    },
    {
      "cell_type": "code",
      "metadata": {
        "colab": {
          "base_uri": "https://localhost:8080/"
        },
        "id": "m8RsNYB_vKOD",
        "outputId": "47337264-2a74-4765-8714-a569e9a6e67f"
      },
      "source": [
        "B = np.linalg.inv(A)\n",
        "B"
      ],
      "execution_count": 56,
      "outputs": [
        {
          "output_type": "execute_result",
          "data": {
            "text/plain": [
              "array([[ 0.3, -0.4],\n",
              "       [ 0.1,  0.2]])"
            ]
          },
          "metadata": {
            "tags": []
          },
          "execution_count": 56
        }
      ]
    },
    {
      "cell_type": "code",
      "metadata": {
        "colab": {
          "base_uri": "https://localhost:8080/"
        },
        "id": "YvrCXNHJvOrT",
        "outputId": "c0a76f25-9469-4c90-e904-858f3e49bb80"
      },
      "source": [
        "np.set_printoptions(precision=4, suppress=True)\n",
        "np.dot(A,B)"
      ],
      "execution_count": 57,
      "outputs": [
        {
          "output_type": "execute_result",
          "data": {
            "text/plain": [
              "array([[1., 0.],\n",
              "       [0., 1.]])"
            ]
          },
          "metadata": {
            "tags": []
          },
          "execution_count": 57
        }
      ]
    },
    {
      "cell_type": "code",
      "metadata": {
        "colab": {
          "base_uri": "https://localhost:8080/"
        },
        "id": "VTmqrreDvVkc",
        "outputId": "3d222108-0db1-4ec9-fd9c-511e040f1463"
      },
      "source": [
        "np.dot(B,A)"
      ],
      "execution_count": 58,
      "outputs": [
        {
          "output_type": "execute_result",
          "data": {
            "text/plain": [
              "array([[ 1., -0.],\n",
              "       [ 0.,  1.]])"
            ]
          },
          "metadata": {
            "tags": []
          },
          "execution_count": 58
        }
      ]
    },
    {
      "cell_type": "markdown",
      "metadata": {
        "id": "Wpsy5UakvapE"
      },
      "source": [
        "macierz transponowana"
      ]
    },
    {
      "cell_type": "code",
      "metadata": {
        "colab": {
          "base_uri": "https://localhost:8080/"
        },
        "id": "uqRxNdB3vXtc",
        "outputId": "b2dbb46c-8efd-4071-86d8-33ec94689b64"
      },
      "source": [
        "np.transpose(A)"
      ],
      "execution_count": 59,
      "outputs": [
        {
          "output_type": "execute_result",
          "data": {
            "text/plain": [
              "array([[ 2, -1],\n",
              "       [ 4,  3]])"
            ]
          },
          "metadata": {
            "tags": []
          },
          "execution_count": 59
        }
      ]
    },
    {
      "cell_type": "code",
      "metadata": {
        "colab": {
          "base_uri": "https://localhost:8080/"
        },
        "id": "KhqQ37LVvp9s",
        "outputId": "b9e1018c-7d97-4062-e314-97d827e9e40c"
      },
      "source": [
        "A.T"
      ],
      "execution_count": 60,
      "outputs": [
        {
          "output_type": "execute_result",
          "data": {
            "text/plain": [
              "array([[ 2, -1],\n",
              "       [ 4,  3]])"
            ]
          },
          "metadata": {
            "tags": []
          },
          "execution_count": 60
        }
      ]
    },
    {
      "cell_type": "markdown",
      "metadata": {
        "id": "PNz_GeY5vt6F"
      },
      "source": [
        "rozwiązywanie układów równań"
      ]
    },
    {
      "cell_type": "code",
      "metadata": {
        "id": "ctWgmj2ivscN"
      },
      "source": [
        "A = np.array([[2,4], [1,-1]])"
      ],
      "execution_count": 61,
      "outputs": []
    },
    {
      "cell_type": "code",
      "metadata": {
        "colab": {
          "base_uri": "https://localhost:8080/"
        },
        "id": "Ufr_0rU4C6AS",
        "outputId": "2462f284-ae74-4f60-8861-8be98fc57eb5"
      },
      "source": [
        "A"
      ],
      "execution_count": 62,
      "outputs": [
        {
          "output_type": "execute_result",
          "data": {
            "text/plain": [
              "array([[ 2,  4],\n",
              "       [ 1, -1]])"
            ]
          },
          "metadata": {
            "tags": []
          },
          "execution_count": 62
        }
      ]
    },
    {
      "cell_type": "code",
      "metadata": {
        "id": "n2lhK2_HC6SD"
      },
      "source": [
        "B = np.array([[10], [-1]])"
      ],
      "execution_count": 68,
      "outputs": []
    },
    {
      "cell_type": "code",
      "metadata": {
        "colab": {
          "base_uri": "https://localhost:8080/"
        },
        "id": "1-p_noG6C99T",
        "outputId": "db5f5169-49dd-44af-e5ce-b0075fc942b3"
      },
      "source": [
        "B"
      ],
      "execution_count": 69,
      "outputs": [
        {
          "output_type": "execute_result",
          "data": {
            "text/plain": [
              "array([[10],\n",
              "       [-1]])"
            ]
          },
          "metadata": {
            "tags": []
          },
          "execution_count": 69
        }
      ]
    },
    {
      "cell_type": "code",
      "metadata": {
        "id": "4rD8phrFC-Hs"
      },
      "source": [
        "A_inv = np.linalg.inv(A)\n",
        "X = np.dot(A_inv, B)"
      ],
      "execution_count": 70,
      "outputs": []
    },
    {
      "cell_type": "code",
      "metadata": {
        "colab": {
          "base_uri": "https://localhost:8080/"
        },
        "id": "iwsGeIfHDJfj",
        "outputId": "bff0270c-1237-42a2-ab6e-b8822251686a"
      },
      "source": [
        "X"
      ],
      "execution_count": 71,
      "outputs": [
        {
          "output_type": "execute_result",
          "data": {
            "text/plain": [
              "array([[1.],\n",
              "       [2.]])"
            ]
          },
          "metadata": {
            "tags": []
          },
          "execution_count": 71
        }
      ]
    },
    {
      "cell_type": "code",
      "metadata": {
        "id": "eT6tpB2jDU6r"
      },
      "source": [
        ""
      ],
      "execution_count": null,
      "outputs": []
    }
  ]
}