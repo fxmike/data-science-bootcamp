{
  "nbformat": 4,
  "nbformat_minor": 0,
  "metadata": {
    "colab": {
      "name": "02_metryki_klasyfikacja.ipynb",
      "provenance": [],
      "authorship_tag": "ABX9TyNFpWmYIEN4WXWsd8CoHu2Y",
      "include_colab_link": true
    },
    "kernelspec": {
      "name": "python3",
      "display_name": "Python 3"
    },
    "language_info": {
      "name": "python"
    }
  },
  "cells": [
    {
      "cell_type": "markdown",
      "metadata": {
        "id": "view-in-github",
        "colab_type": "text"
      },
      "source": [
        "<a href=\"https://colab.research.google.com/github/fxmike/data-science-bootcamp/blob/main/06_uczenie_maszynowe/02_metryki_klasyfikacja.ipynb\" target=\"_parent\"><img src=\"https://colab.research.google.com/assets/colab-badge.svg\" alt=\"Open In Colab\"/></a>"
      ]
    },
    {
      "cell_type": "code",
      "metadata": {
        "id": "lrtWn4TxiVP9"
      },
      "source": [
        "import numpy as np\n",
        "import pandas as pd\n",
        "import plotly.graph_objects as go\n",
        "import plotly.express as px\n",
        "from plotly.subplots import make_subplots"
      ],
      "execution_count": 2,
      "outputs": []
    },
    {
      "cell_type": "markdown",
      "metadata": {
        "id": "cxSaaOHUo7gU"
      },
      "source": [
        "Matryki - Klasyfikacja binarna"
      ]
    },
    {
      "cell_type": "markdown",
      "metadata": {
        "id": "ruY7rIaPo_Ij"
      },
      "source": [
        "Accuracy - Dokładność klasyfikacji"
      ]
    },
    {
      "cell_type": "markdown",
      "metadata": {
        "id": "bVzcRZTXpDYk"
      },
      "source": [
        "![image.png](data:image/png;base64,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)"
      ]
    },
    {
      "cell_type": "code",
      "metadata": {
        "id": "gBXcIp8JnIme"
      },
      "source": [
        "y_true = np.array([1,0,1,1,0,1,1,0,1,0,1,1,0,1,1,0,1,1,0,1,1,1,0,1,1,0,1,1,0,1])\n",
        "y_pred = np.array([0,0,1,1,0,1,0,0,1,1,0,1,0,1,1,0,0,1,0,1,1,1,1,1,1,0,1,1,0,1])"
      ],
      "execution_count": 3,
      "outputs": []
    },
    {
      "cell_type": "code",
      "metadata": {
        "colab": {
          "base_uri": "https://localhost:8080/"
        },
        "id": "awDEAzXxpgae",
        "outputId": "23c1bd9a-cabf-476f-901d-78a030cf4351"
      },
      "source": [
        "from sklearn.metrics import accuracy_score\n",
        "\n",
        "accuracy_score(y_true, y_pred)"
      ],
      "execution_count": 4,
      "outputs": [
        {
          "output_type": "execute_result",
          "data": {
            "text/plain": [
              "0.8"
            ]
          },
          "metadata": {
            "tags": []
          },
          "execution_count": 4
        }
      ]
    },
    {
      "cell_type": "code",
      "metadata": {
        "colab": {
          "base_uri": "https://localhost:8080/",
          "height": 979
        },
        "id": "2fHv2igHp3nO",
        "outputId": "f55811f5-88b2-459c-baa7-56360bed4769"
      },
      "source": [
        "results = pd.DataFrame({'y_true':y_true, 'y_pred':y_pred})\n",
        "results"
      ],
      "execution_count": 6,
      "outputs": [
        {
          "output_type": "execute_result",
          "data": {
            "text/html": [
              "<div>\n",
              "<style scoped>\n",
              "    .dataframe tbody tr th:only-of-type {\n",
              "        vertical-align: middle;\n",
              "    }\n",
              "\n",
              "    .dataframe tbody tr th {\n",
              "        vertical-align: top;\n",
              "    }\n",
              "\n",
              "    .dataframe thead th {\n",
              "        text-align: right;\n",
              "    }\n",
              "</style>\n",
              "<table border=\"1\" class=\"dataframe\">\n",
              "  <thead>\n",
              "    <tr style=\"text-align: right;\">\n",
              "      <th></th>\n",
              "      <th>y_true</th>\n",
              "      <th>y_pred</th>\n",
              "    </tr>\n",
              "  </thead>\n",
              "  <tbody>\n",
              "    <tr>\n",
              "      <th>0</th>\n",
              "      <td>1</td>\n",
              "      <td>0</td>\n",
              "    </tr>\n",
              "    <tr>\n",
              "      <th>1</th>\n",
              "      <td>0</td>\n",
              "      <td>0</td>\n",
              "    </tr>\n",
              "    <tr>\n",
              "      <th>2</th>\n",
              "      <td>1</td>\n",
              "      <td>1</td>\n",
              "    </tr>\n",
              "    <tr>\n",
              "      <th>3</th>\n",
              "      <td>1</td>\n",
              "      <td>1</td>\n",
              "    </tr>\n",
              "    <tr>\n",
              "      <th>4</th>\n",
              "      <td>0</td>\n",
              "      <td>0</td>\n",
              "    </tr>\n",
              "    <tr>\n",
              "      <th>5</th>\n",
              "      <td>1</td>\n",
              "      <td>1</td>\n",
              "    </tr>\n",
              "    <tr>\n",
              "      <th>6</th>\n",
              "      <td>1</td>\n",
              "      <td>0</td>\n",
              "    </tr>\n",
              "    <tr>\n",
              "      <th>7</th>\n",
              "      <td>0</td>\n",
              "      <td>0</td>\n",
              "    </tr>\n",
              "    <tr>\n",
              "      <th>8</th>\n",
              "      <td>1</td>\n",
              "      <td>1</td>\n",
              "    </tr>\n",
              "    <tr>\n",
              "      <th>9</th>\n",
              "      <td>0</td>\n",
              "      <td>1</td>\n",
              "    </tr>\n",
              "    <tr>\n",
              "      <th>10</th>\n",
              "      <td>1</td>\n",
              "      <td>0</td>\n",
              "    </tr>\n",
              "    <tr>\n",
              "      <th>11</th>\n",
              "      <td>1</td>\n",
              "      <td>1</td>\n",
              "    </tr>\n",
              "    <tr>\n",
              "      <th>12</th>\n",
              "      <td>0</td>\n",
              "      <td>0</td>\n",
              "    </tr>\n",
              "    <tr>\n",
              "      <th>13</th>\n",
              "      <td>1</td>\n",
              "      <td>1</td>\n",
              "    </tr>\n",
              "    <tr>\n",
              "      <th>14</th>\n",
              "      <td>1</td>\n",
              "      <td>1</td>\n",
              "    </tr>\n",
              "    <tr>\n",
              "      <th>15</th>\n",
              "      <td>0</td>\n",
              "      <td>0</td>\n",
              "    </tr>\n",
              "    <tr>\n",
              "      <th>16</th>\n",
              "      <td>1</td>\n",
              "      <td>0</td>\n",
              "    </tr>\n",
              "    <tr>\n",
              "      <th>17</th>\n",
              "      <td>1</td>\n",
              "      <td>1</td>\n",
              "    </tr>\n",
              "    <tr>\n",
              "      <th>18</th>\n",
              "      <td>0</td>\n",
              "      <td>0</td>\n",
              "    </tr>\n",
              "    <tr>\n",
              "      <th>19</th>\n",
              "      <td>1</td>\n",
              "      <td>1</td>\n",
              "    </tr>\n",
              "    <tr>\n",
              "      <th>20</th>\n",
              "      <td>1</td>\n",
              "      <td>1</td>\n",
              "    </tr>\n",
              "    <tr>\n",
              "      <th>21</th>\n",
              "      <td>1</td>\n",
              "      <td>1</td>\n",
              "    </tr>\n",
              "    <tr>\n",
              "      <th>22</th>\n",
              "      <td>0</td>\n",
              "      <td>1</td>\n",
              "    </tr>\n",
              "    <tr>\n",
              "      <th>23</th>\n",
              "      <td>1</td>\n",
              "      <td>1</td>\n",
              "    </tr>\n",
              "    <tr>\n",
              "      <th>24</th>\n",
              "      <td>1</td>\n",
              "      <td>1</td>\n",
              "    </tr>\n",
              "    <tr>\n",
              "      <th>25</th>\n",
              "      <td>0</td>\n",
              "      <td>0</td>\n",
              "    </tr>\n",
              "    <tr>\n",
              "      <th>26</th>\n",
              "      <td>1</td>\n",
              "      <td>1</td>\n",
              "    </tr>\n",
              "    <tr>\n",
              "      <th>27</th>\n",
              "      <td>1</td>\n",
              "      <td>1</td>\n",
              "    </tr>\n",
              "    <tr>\n",
              "      <th>28</th>\n",
              "      <td>0</td>\n",
              "      <td>0</td>\n",
              "    </tr>\n",
              "    <tr>\n",
              "      <th>29</th>\n",
              "      <td>1</td>\n",
              "      <td>1</td>\n",
              "    </tr>\n",
              "  </tbody>\n",
              "</table>\n",
              "</div>"
            ],
            "text/plain": [
              "    y_true  y_pred\n",
              "0        1       0\n",
              "1        0       0\n",
              "2        1       1\n",
              "3        1       1\n",
              "4        0       0\n",
              "5        1       1\n",
              "6        1       0\n",
              "7        0       0\n",
              "8        1       1\n",
              "9        0       1\n",
              "10       1       0\n",
              "11       1       1\n",
              "12       0       0\n",
              "13       1       1\n",
              "14       1       1\n",
              "15       0       0\n",
              "16       1       0\n",
              "17       1       1\n",
              "18       0       0\n",
              "19       1       1\n",
              "20       1       1\n",
              "21       1       1\n",
              "22       0       1\n",
              "23       1       1\n",
              "24       1       1\n",
              "25       0       0\n",
              "26       1       1\n",
              "27       1       1\n",
              "28       0       0\n",
              "29       1       1"
            ]
          },
          "metadata": {
            "tags": []
          },
          "execution_count": 6
        }
      ]
    },
    {
      "cell_type": "code",
      "metadata": {
        "colab": {
          "base_uri": "https://localhost:8080/",
          "height": 979
        },
        "id": "Ft-kTqmZsOVw",
        "outputId": "7ca70eca-1d63-4942-beb3-8862145b8a0e"
      },
      "source": [
        "results = results.sort_values(by='y_true')\n",
        "results = results.reset_index(drop=True)\n",
        "results['sample'] = results.index + 1 \n",
        "results"
      ],
      "execution_count": 9,
      "outputs": [
        {
          "output_type": "execute_result",
          "data": {
            "text/html": [
              "<div>\n",
              "<style scoped>\n",
              "    .dataframe tbody tr th:only-of-type {\n",
              "        vertical-align: middle;\n",
              "    }\n",
              "\n",
              "    .dataframe tbody tr th {\n",
              "        vertical-align: top;\n",
              "    }\n",
              "\n",
              "    .dataframe thead th {\n",
              "        text-align: right;\n",
              "    }\n",
              "</style>\n",
              "<table border=\"1\" class=\"dataframe\">\n",
              "  <thead>\n",
              "    <tr style=\"text-align: right;\">\n",
              "      <th></th>\n",
              "      <th>y_true</th>\n",
              "      <th>y_pred</th>\n",
              "      <th>sample</th>\n",
              "    </tr>\n",
              "  </thead>\n",
              "  <tbody>\n",
              "    <tr>\n",
              "      <th>0</th>\n",
              "      <td>0</td>\n",
              "      <td>0</td>\n",
              "      <td>1</td>\n",
              "    </tr>\n",
              "    <tr>\n",
              "      <th>1</th>\n",
              "      <td>0</td>\n",
              "      <td>0</td>\n",
              "      <td>2</td>\n",
              "    </tr>\n",
              "    <tr>\n",
              "      <th>2</th>\n",
              "      <td>0</td>\n",
              "      <td>0</td>\n",
              "      <td>3</td>\n",
              "    </tr>\n",
              "    <tr>\n",
              "      <th>3</th>\n",
              "      <td>0</td>\n",
              "      <td>0</td>\n",
              "      <td>4</td>\n",
              "    </tr>\n",
              "    <tr>\n",
              "      <th>4</th>\n",
              "      <td>0</td>\n",
              "      <td>1</td>\n",
              "      <td>5</td>\n",
              "    </tr>\n",
              "    <tr>\n",
              "      <th>5</th>\n",
              "      <td>0</td>\n",
              "      <td>0</td>\n",
              "      <td>6</td>\n",
              "    </tr>\n",
              "    <tr>\n",
              "      <th>6</th>\n",
              "      <td>0</td>\n",
              "      <td>0</td>\n",
              "      <td>7</td>\n",
              "    </tr>\n",
              "    <tr>\n",
              "      <th>7</th>\n",
              "      <td>0</td>\n",
              "      <td>0</td>\n",
              "      <td>8</td>\n",
              "    </tr>\n",
              "    <tr>\n",
              "      <th>8</th>\n",
              "      <td>0</td>\n",
              "      <td>1</td>\n",
              "      <td>9</td>\n",
              "    </tr>\n",
              "    <tr>\n",
              "      <th>9</th>\n",
              "      <td>0</td>\n",
              "      <td>0</td>\n",
              "      <td>10</td>\n",
              "    </tr>\n",
              "    <tr>\n",
              "      <th>10</th>\n",
              "      <td>1</td>\n",
              "      <td>1</td>\n",
              "      <td>11</td>\n",
              "    </tr>\n",
              "    <tr>\n",
              "      <th>11</th>\n",
              "      <td>1</td>\n",
              "      <td>1</td>\n",
              "      <td>12</td>\n",
              "    </tr>\n",
              "    <tr>\n",
              "      <th>12</th>\n",
              "      <td>1</td>\n",
              "      <td>0</td>\n",
              "      <td>13</td>\n",
              "    </tr>\n",
              "    <tr>\n",
              "      <th>13</th>\n",
              "      <td>1</td>\n",
              "      <td>1</td>\n",
              "      <td>14</td>\n",
              "    </tr>\n",
              "    <tr>\n",
              "      <th>14</th>\n",
              "      <td>1</td>\n",
              "      <td>1</td>\n",
              "      <td>15</td>\n",
              "    </tr>\n",
              "    <tr>\n",
              "      <th>15</th>\n",
              "      <td>1</td>\n",
              "      <td>1</td>\n",
              "      <td>16</td>\n",
              "    </tr>\n",
              "    <tr>\n",
              "      <th>16</th>\n",
              "      <td>1</td>\n",
              "      <td>1</td>\n",
              "      <td>17</td>\n",
              "    </tr>\n",
              "    <tr>\n",
              "      <th>17</th>\n",
              "      <td>1</td>\n",
              "      <td>1</td>\n",
              "      <td>18</td>\n",
              "    </tr>\n",
              "    <tr>\n",
              "      <th>18</th>\n",
              "      <td>1</td>\n",
              "      <td>1</td>\n",
              "      <td>19</td>\n",
              "    </tr>\n",
              "    <tr>\n",
              "      <th>19</th>\n",
              "      <td>1</td>\n",
              "      <td>0</td>\n",
              "      <td>20</td>\n",
              "    </tr>\n",
              "    <tr>\n",
              "      <th>20</th>\n",
              "      <td>1</td>\n",
              "      <td>1</td>\n",
              "      <td>21</td>\n",
              "    </tr>\n",
              "    <tr>\n",
              "      <th>21</th>\n",
              "      <td>1</td>\n",
              "      <td>0</td>\n",
              "      <td>22</td>\n",
              "    </tr>\n",
              "    <tr>\n",
              "      <th>22</th>\n",
              "      <td>1</td>\n",
              "      <td>1</td>\n",
              "      <td>23</td>\n",
              "    </tr>\n",
              "    <tr>\n",
              "      <th>23</th>\n",
              "      <td>1</td>\n",
              "      <td>1</td>\n",
              "      <td>24</td>\n",
              "    </tr>\n",
              "    <tr>\n",
              "      <th>24</th>\n",
              "      <td>1</td>\n",
              "      <td>1</td>\n",
              "      <td>25</td>\n",
              "    </tr>\n",
              "    <tr>\n",
              "      <th>25</th>\n",
              "      <td>1</td>\n",
              "      <td>1</td>\n",
              "      <td>26</td>\n",
              "    </tr>\n",
              "    <tr>\n",
              "      <th>26</th>\n",
              "      <td>1</td>\n",
              "      <td>1</td>\n",
              "      <td>27</td>\n",
              "    </tr>\n",
              "    <tr>\n",
              "      <th>27</th>\n",
              "      <td>1</td>\n",
              "      <td>1</td>\n",
              "      <td>28</td>\n",
              "    </tr>\n",
              "    <tr>\n",
              "      <th>28</th>\n",
              "      <td>1</td>\n",
              "      <td>0</td>\n",
              "      <td>29</td>\n",
              "    </tr>\n",
              "    <tr>\n",
              "      <th>29</th>\n",
              "      <td>1</td>\n",
              "      <td>1</td>\n",
              "      <td>30</td>\n",
              "    </tr>\n",
              "  </tbody>\n",
              "</table>\n",
              "</div>"
            ],
            "text/plain": [
              "    y_true  y_pred  sample\n",
              "0        0       0       1\n",
              "1        0       0       2\n",
              "2        0       0       3\n",
              "3        0       0       4\n",
              "4        0       1       5\n",
              "5        0       0       6\n",
              "6        0       0       7\n",
              "7        0       0       8\n",
              "8        0       1       9\n",
              "9        0       0      10\n",
              "10       1       1      11\n",
              "11       1       1      12\n",
              "12       1       0      13\n",
              "13       1       1      14\n",
              "14       1       1      15\n",
              "15       1       1      16\n",
              "16       1       1      17\n",
              "17       1       1      18\n",
              "18       1       1      19\n",
              "19       1       0      20\n",
              "20       1       1      21\n",
              "21       1       0      22\n",
              "22       1       1      23\n",
              "23       1       1      24\n",
              "24       1       1      25\n",
              "25       1       1      26\n",
              "26       1       1      27\n",
              "27       1       1      28\n",
              "28       1       0      29\n",
              "29       1       1      30"
            ]
          },
          "metadata": {
            "tags": []
          },
          "execution_count": 9
        }
      ]
    },
    {
      "cell_type": "code",
      "metadata": {
        "colab": {
          "base_uri": "https://localhost:8080/",
          "height": 542
        },
        "id": "OJaSWgR9si4g",
        "outputId": "e8fd8688-9d9a-4d79-a3b4-40c19516458f"
      },
      "source": [
        "fig = make_subplots(rows=2, cols=2)\n",
        "fig.add_trace(go.Scatter(x=results['sample'], y=results['y_true'], mode='markers', name='y_true'), row=1, col=1)\n",
        "fig.add_trace(go.Scatter(x=results['sample'], y=results['y_pred'], mode='markers', name='y_pred'), row=2, col=1)\n",
        "fig.update_layout(width=1000,title='Klasyfikator binarny')\n",
        "fig.show()"
      ],
      "execution_count": 19,
      "outputs": [
        {
          "output_type": "display_data",
          "data": {
            "text/html": [
              "<html>\n",
              "<head><meta charset=\"utf-8\" /></head>\n",
              "<body>\n",
              "    <div>\n",
              "            <script src=\"https://cdnjs.cloudflare.com/ajax/libs/mathjax/2.7.5/MathJax.js?config=TeX-AMS-MML_SVG\"></script><script type=\"text/javascript\">if (window.MathJax) {MathJax.Hub.Config({SVG: {font: \"STIX-Web\"}});}</script>\n",
              "                <script type=\"text/javascript\">window.PlotlyConfig = {MathJaxConfig: 'local'};</script>\n",
              "        <script src=\"https://cdn.plot.ly/plotly-latest.min.js\"></script>    \n",
              "            <div id=\"18fdec42-4d05-4170-979c-062e5ae2e34a\" class=\"plotly-graph-div\" style=\"height:525px; width:1000px;\"></div>\n",
              "            <script type=\"text/javascript\">\n",
              "                \n",
              "                    window.PLOTLYENV=window.PLOTLYENV || {};\n",
              "                    \n",
              "                if (document.getElementById(\"18fdec42-4d05-4170-979c-062e5ae2e34a\")) {\n",
              "                    Plotly.newPlot(\n",
              "                        '18fdec42-4d05-4170-979c-062e5ae2e34a',\n",
              "                        [{\"mode\": \"markers\", \"name\": \"y_true\", \"type\": \"scatter\", \"x\": [1, 2, 3, 4, 5, 6, 7, 8, 9, 10, 11, 12, 13, 14, 15, 16, 17, 18, 19, 20, 21, 22, 23, 24, 25, 26, 27, 28, 29, 30], \"xaxis\": \"x\", \"y\": [0, 0, 0, 0, 0, 0, 0, 0, 0, 0, 1, 1, 1, 1, 1, 1, 1, 1, 1, 1, 1, 1, 1, 1, 1, 1, 1, 1, 1, 1], \"yaxis\": \"y\"}, {\"mode\": \"markers\", \"name\": \"y_pred\", \"type\": \"scatter\", \"x\": [1, 2, 3, 4, 5, 6, 7, 8, 9, 10, 11, 12, 13, 14, 15, 16, 17, 18, 19, 20, 21, 22, 23, 24, 25, 26, 27, 28, 29, 30], \"xaxis\": \"x3\", \"y\": [0, 0, 0, 0, 1, 0, 0, 0, 1, 0, 1, 1, 0, 1, 1, 1, 1, 1, 1, 0, 1, 0, 1, 1, 1, 1, 1, 1, 0, 1], \"yaxis\": \"y3\"}],\n",
              "                        {\"template\": {\"data\": {\"bar\": [{\"error_x\": {\"color\": \"#2a3f5f\"}, \"error_y\": {\"color\": \"#2a3f5f\"}, \"marker\": {\"line\": {\"color\": \"#E5ECF6\", \"width\": 0.5}}, \"type\": \"bar\"}], \"barpolar\": [{\"marker\": {\"line\": {\"color\": \"#E5ECF6\", \"width\": 0.5}}, \"type\": \"barpolar\"}], \"carpet\": [{\"aaxis\": {\"endlinecolor\": \"#2a3f5f\", \"gridcolor\": \"white\", \"linecolor\": \"white\", \"minorgridcolor\": \"white\", \"startlinecolor\": \"#2a3f5f\"}, \"baxis\": {\"endlinecolor\": \"#2a3f5f\", \"gridcolor\": \"white\", \"linecolor\": \"white\", \"minorgridcolor\": \"white\", \"startlinecolor\": \"#2a3f5f\"}, \"type\": \"carpet\"}], \"choropleth\": [{\"colorbar\": {\"outlinewidth\": 0, \"ticks\": \"\"}, \"type\": \"choropleth\"}], \"contour\": [{\"colorbar\": {\"outlinewidth\": 0, \"ticks\": \"\"}, \"colorscale\": [[0.0, \"#0d0887\"], [0.1111111111111111, \"#46039f\"], [0.2222222222222222, \"#7201a8\"], [0.3333333333333333, \"#9c179e\"], [0.4444444444444444, \"#bd3786\"], [0.5555555555555556, \"#d8576b\"], [0.6666666666666666, \"#ed7953\"], [0.7777777777777778, \"#fb9f3a\"], [0.8888888888888888, \"#fdca26\"], [1.0, \"#f0f921\"]], \"type\": \"contour\"}], \"contourcarpet\": [{\"colorbar\": {\"outlinewidth\": 0, \"ticks\": \"\"}, \"type\": \"contourcarpet\"}], \"heatmap\": [{\"colorbar\": {\"outlinewidth\": 0, \"ticks\": \"\"}, \"colorscale\": [[0.0, \"#0d0887\"], [0.1111111111111111, \"#46039f\"], [0.2222222222222222, \"#7201a8\"], [0.3333333333333333, \"#9c179e\"], [0.4444444444444444, \"#bd3786\"], [0.5555555555555556, \"#d8576b\"], [0.6666666666666666, \"#ed7953\"], [0.7777777777777778, \"#fb9f3a\"], [0.8888888888888888, \"#fdca26\"], [1.0, \"#f0f921\"]], \"type\": \"heatmap\"}], \"heatmapgl\": [{\"colorbar\": {\"outlinewidth\": 0, \"ticks\": \"\"}, \"colorscale\": [[0.0, \"#0d0887\"], [0.1111111111111111, \"#46039f\"], [0.2222222222222222, \"#7201a8\"], [0.3333333333333333, \"#9c179e\"], [0.4444444444444444, \"#bd3786\"], [0.5555555555555556, \"#d8576b\"], [0.6666666666666666, \"#ed7953\"], [0.7777777777777778, \"#fb9f3a\"], [0.8888888888888888, \"#fdca26\"], [1.0, \"#f0f921\"]], \"type\": \"heatmapgl\"}], \"histogram\": [{\"marker\": {\"colorbar\": {\"outlinewidth\": 0, \"ticks\": \"\"}}, \"type\": \"histogram\"}], \"histogram2d\": [{\"colorbar\": {\"outlinewidth\": 0, \"ticks\": \"\"}, \"colorscale\": [[0.0, \"#0d0887\"], [0.1111111111111111, \"#46039f\"], [0.2222222222222222, \"#7201a8\"], [0.3333333333333333, \"#9c179e\"], [0.4444444444444444, \"#bd3786\"], [0.5555555555555556, \"#d8576b\"], [0.6666666666666666, \"#ed7953\"], [0.7777777777777778, \"#fb9f3a\"], [0.8888888888888888, \"#fdca26\"], [1.0, \"#f0f921\"]], \"type\": \"histogram2d\"}], \"histogram2dcontour\": [{\"colorbar\": {\"outlinewidth\": 0, \"ticks\": \"\"}, \"colorscale\": [[0.0, \"#0d0887\"], [0.1111111111111111, \"#46039f\"], [0.2222222222222222, \"#7201a8\"], [0.3333333333333333, \"#9c179e\"], [0.4444444444444444, \"#bd3786\"], [0.5555555555555556, \"#d8576b\"], [0.6666666666666666, \"#ed7953\"], [0.7777777777777778, \"#fb9f3a\"], [0.8888888888888888, \"#fdca26\"], [1.0, \"#f0f921\"]], \"type\": \"histogram2dcontour\"}], \"mesh3d\": [{\"colorbar\": {\"outlinewidth\": 0, \"ticks\": \"\"}, \"type\": \"mesh3d\"}], \"parcoords\": [{\"line\": {\"colorbar\": {\"outlinewidth\": 0, \"ticks\": \"\"}}, \"type\": \"parcoords\"}], \"pie\": [{\"automargin\": true, \"type\": \"pie\"}], \"scatter\": [{\"marker\": {\"colorbar\": {\"outlinewidth\": 0, \"ticks\": \"\"}}, \"type\": \"scatter\"}], \"scatter3d\": [{\"line\": {\"colorbar\": {\"outlinewidth\": 0, \"ticks\": \"\"}}, \"marker\": {\"colorbar\": {\"outlinewidth\": 0, \"ticks\": \"\"}}, \"type\": \"scatter3d\"}], \"scattercarpet\": [{\"marker\": {\"colorbar\": {\"outlinewidth\": 0, \"ticks\": \"\"}}, \"type\": \"scattercarpet\"}], \"scattergeo\": [{\"marker\": {\"colorbar\": {\"outlinewidth\": 0, \"ticks\": \"\"}}, \"type\": \"scattergeo\"}], \"scattergl\": [{\"marker\": {\"colorbar\": {\"outlinewidth\": 0, \"ticks\": \"\"}}, \"type\": \"scattergl\"}], \"scattermapbox\": [{\"marker\": {\"colorbar\": {\"outlinewidth\": 0, \"ticks\": \"\"}}, \"type\": \"scattermapbox\"}], \"scatterpolar\": [{\"marker\": {\"colorbar\": {\"outlinewidth\": 0, \"ticks\": \"\"}}, \"type\": \"scatterpolar\"}], \"scatterpolargl\": [{\"marker\": {\"colorbar\": {\"outlinewidth\": 0, \"ticks\": \"\"}}, \"type\": \"scatterpolargl\"}], \"scatterternary\": [{\"marker\": {\"colorbar\": {\"outlinewidth\": 0, \"ticks\": \"\"}}, \"type\": \"scatterternary\"}], \"surface\": [{\"colorbar\": {\"outlinewidth\": 0, \"ticks\": \"\"}, \"colorscale\": [[0.0, \"#0d0887\"], [0.1111111111111111, \"#46039f\"], [0.2222222222222222, \"#7201a8\"], [0.3333333333333333, \"#9c179e\"], [0.4444444444444444, \"#bd3786\"], [0.5555555555555556, \"#d8576b\"], [0.6666666666666666, \"#ed7953\"], [0.7777777777777778, \"#fb9f3a\"], [0.8888888888888888, \"#fdca26\"], [1.0, \"#f0f921\"]], \"type\": \"surface\"}], \"table\": [{\"cells\": {\"fill\": {\"color\": \"#EBF0F8\"}, \"line\": {\"color\": \"white\"}}, \"header\": {\"fill\": {\"color\": \"#C8D4E3\"}, \"line\": {\"color\": \"white\"}}, \"type\": \"table\"}]}, \"layout\": {\"annotationdefaults\": {\"arrowcolor\": \"#2a3f5f\", \"arrowhead\": 0, \"arrowwidth\": 1}, \"coloraxis\": {\"colorbar\": {\"outlinewidth\": 0, \"ticks\": \"\"}}, \"colorscale\": {\"diverging\": [[0, \"#8e0152\"], [0.1, \"#c51b7d\"], [0.2, \"#de77ae\"], [0.3, \"#f1b6da\"], [0.4, \"#fde0ef\"], [0.5, \"#f7f7f7\"], [0.6, \"#e6f5d0\"], [0.7, \"#b8e186\"], [0.8, \"#7fbc41\"], [0.9, \"#4d9221\"], [1, \"#276419\"]], \"sequential\": [[0.0, \"#0d0887\"], [0.1111111111111111, \"#46039f\"], [0.2222222222222222, \"#7201a8\"], [0.3333333333333333, \"#9c179e\"], [0.4444444444444444, \"#bd3786\"], [0.5555555555555556, \"#d8576b\"], [0.6666666666666666, \"#ed7953\"], [0.7777777777777778, \"#fb9f3a\"], [0.8888888888888888, \"#fdca26\"], [1.0, \"#f0f921\"]], \"sequentialminus\": [[0.0, \"#0d0887\"], [0.1111111111111111, \"#46039f\"], [0.2222222222222222, \"#7201a8\"], [0.3333333333333333, \"#9c179e\"], [0.4444444444444444, \"#bd3786\"], [0.5555555555555556, \"#d8576b\"], [0.6666666666666666, \"#ed7953\"], [0.7777777777777778, \"#fb9f3a\"], [0.8888888888888888, \"#fdca26\"], [1.0, \"#f0f921\"]]}, \"colorway\": [\"#636efa\", \"#EF553B\", \"#00cc96\", \"#ab63fa\", \"#FFA15A\", \"#19d3f3\", \"#FF6692\", \"#B6E880\", \"#FF97FF\", \"#FECB52\"], \"font\": {\"color\": \"#2a3f5f\"}, \"geo\": {\"bgcolor\": \"white\", \"lakecolor\": \"white\", \"landcolor\": \"#E5ECF6\", \"showlakes\": true, \"showland\": true, \"subunitcolor\": \"white\"}, \"hoverlabel\": {\"align\": \"left\"}, \"hovermode\": \"closest\", \"mapbox\": {\"style\": \"light\"}, \"paper_bgcolor\": \"white\", \"plot_bgcolor\": \"#E5ECF6\", \"polar\": {\"angularaxis\": {\"gridcolor\": \"white\", \"linecolor\": \"white\", \"ticks\": \"\"}, \"bgcolor\": \"#E5ECF6\", \"radialaxis\": {\"gridcolor\": \"white\", \"linecolor\": \"white\", \"ticks\": \"\"}}, \"scene\": {\"xaxis\": {\"backgroundcolor\": \"#E5ECF6\", \"gridcolor\": \"white\", \"gridwidth\": 2, \"linecolor\": \"white\", \"showbackground\": true, \"ticks\": \"\", \"zerolinecolor\": \"white\"}, \"yaxis\": {\"backgroundcolor\": \"#E5ECF6\", \"gridcolor\": \"white\", \"gridwidth\": 2, \"linecolor\": \"white\", \"showbackground\": true, \"ticks\": \"\", \"zerolinecolor\": \"white\"}, \"zaxis\": {\"backgroundcolor\": \"#E5ECF6\", \"gridcolor\": \"white\", \"gridwidth\": 2, \"linecolor\": \"white\", \"showbackground\": true, \"ticks\": \"\", \"zerolinecolor\": \"white\"}}, \"shapedefaults\": {\"line\": {\"color\": \"#2a3f5f\"}}, \"ternary\": {\"aaxis\": {\"gridcolor\": \"white\", \"linecolor\": \"white\", \"ticks\": \"\"}, \"baxis\": {\"gridcolor\": \"white\", \"linecolor\": \"white\", \"ticks\": \"\"}, \"bgcolor\": \"#E5ECF6\", \"caxis\": {\"gridcolor\": \"white\", \"linecolor\": \"white\", \"ticks\": \"\"}}, \"title\": {\"x\": 0.05}, \"xaxis\": {\"automargin\": true, \"gridcolor\": \"white\", \"linecolor\": \"white\", \"ticks\": \"\", \"title\": {\"standoff\": 15}, \"zerolinecolor\": \"white\", \"zerolinewidth\": 2}, \"yaxis\": {\"automargin\": true, \"gridcolor\": \"white\", \"linecolor\": \"white\", \"ticks\": \"\", \"title\": {\"standoff\": 15}, \"zerolinecolor\": \"white\", \"zerolinewidth\": 2}}}, \"title\": {\"text\": \"Klasyfikator binarny\"}, \"width\": 1000, \"xaxis\": {\"anchor\": \"y\", \"domain\": [0.0, 0.45]}, \"xaxis2\": {\"anchor\": \"y2\", \"domain\": [0.55, 1.0]}, \"xaxis3\": {\"anchor\": \"y3\", \"domain\": [0.0, 0.45]}, \"xaxis4\": {\"anchor\": \"y4\", \"domain\": [0.55, 1.0]}, \"yaxis\": {\"anchor\": \"x\", \"domain\": [0.575, 1.0]}, \"yaxis2\": {\"anchor\": \"x2\", \"domain\": [0.575, 1.0]}, \"yaxis3\": {\"anchor\": \"x3\", \"domain\": [0.0, 0.425]}, \"yaxis4\": {\"anchor\": \"x4\", \"domain\": [0.0, 0.425]}},\n",
              "                        {\"responsive\": true}\n",
              "                    ).then(function(){\n",
              "                            \n",
              "var gd = document.getElementById('18fdec42-4d05-4170-979c-062e5ae2e34a');\n",
              "var x = new MutationObserver(function (mutations, observer) {{\n",
              "        var display = window.getComputedStyle(gd).display;\n",
              "        if (!display || display === 'none') {{\n",
              "            console.log([gd, 'removed!']);\n",
              "            Plotly.purge(gd);\n",
              "            observer.disconnect();\n",
              "        }}\n",
              "}});\n",
              "\n",
              "// Listen for the removal of the full notebook cells\n",
              "var notebookContainer = gd.closest('#notebook-container');\n",
              "if (notebookContainer) {{\n",
              "    x.observe(notebookContainer, {childList: true});\n",
              "}}\n",
              "\n",
              "// Listen for the clearing of the current output cell\n",
              "var outputEl = gd.closest('.output');\n",
              "if (outputEl) {{\n",
              "    x.observe(outputEl, {childList: true});\n",
              "}}\n",
              "\n",
              "                        })\n",
              "                };\n",
              "                \n",
              "            </script>\n",
              "        </div>\n",
              "</body>\n",
              "</html>"
            ]
          },
          "metadata": {
            "tags": []
          }
        }
      ]
    },
    {
      "cell_type": "markdown",
      "metadata": {
        "id": "bir2BUPzuIBh"
      },
      "source": [
        "macierz konfuzji/pomyłek"
      ]
    },
    {
      "cell_type": "code",
      "metadata": {
        "id": "L7Fz6bXBtN7B"
      },
      "source": [
        "from sklearn.metrics import confusion_matrix"
      ],
      "execution_count": 20,
      "outputs": []
    },
    {
      "cell_type": "code",
      "metadata": {
        "id": "G1tvKP2LuMcI"
      },
      "source": [
        "cm = confusion_matrix(y_true, y_pred)"
      ],
      "execution_count": 23,
      "outputs": []
    },
    {
      "cell_type": "code",
      "metadata": {
        "colab": {
          "base_uri": "https://localhost:8080/",
          "height": 517
        },
        "id": "6ukQRbheuQlw",
        "outputId": "1f4743f2-64b9-445d-fac5-b74a67b7b246"
      },
      "source": [
        "import plotly.figure_factory as ff\n",
        "\n",
        "def plot_confusion_matrix(cm):\n",
        "  cm = cm[::-1]\n",
        "  cm = pd.DataFrame(cm, columns=['pred0', 'pred1'], index=['true1', 'true0'])\n",
        "\n",
        "  fig = ff.create_annotated_heatmap(z=cm.values, x=list(cm.columns), y=list(cm.index), colorscale='ice',\n",
        "                                    showscale=True, reversescale=True)\n",
        "  fig.update_layout(width=500, height=500, title='confusion matrix', font_size=16)\n",
        "  fig.show()\n",
        "\n",
        "plot_confusion_matrix(cm)"
      ],
      "execution_count": 25,
      "outputs": [
        {
          "output_type": "display_data",
          "data": {
            "text/html": [
              "<html>\n",
              "<head><meta charset=\"utf-8\" /></head>\n",
              "<body>\n",
              "    <div>\n",
              "            <script src=\"https://cdnjs.cloudflare.com/ajax/libs/mathjax/2.7.5/MathJax.js?config=TeX-AMS-MML_SVG\"></script><script type=\"text/javascript\">if (window.MathJax) {MathJax.Hub.Config({SVG: {font: \"STIX-Web\"}});}</script>\n",
              "                <script type=\"text/javascript\">window.PlotlyConfig = {MathJaxConfig: 'local'};</script>\n",
              "        <script src=\"https://cdn.plot.ly/plotly-latest.min.js\"></script>    \n",
              "            <div id=\"efc0c6d9-c95c-493d-bbb9-8d3222703ca6\" class=\"plotly-graph-div\" style=\"height:500px; width:500px;\"></div>\n",
              "            <script type=\"text/javascript\">\n",
              "                \n",
              "                    window.PLOTLYENV=window.PLOTLYENV || {};\n",
              "                    \n",
              "                if (document.getElementById(\"efc0c6d9-c95c-493d-bbb9-8d3222703ca6\")) {\n",
              "                    Plotly.newPlot(\n",
              "                        'efc0c6d9-c95c-493d-bbb9-8d3222703ca6',\n",
              "                        [{\"colorscale\": [[0.0, \"rgb(3, 5, 18)\"], [0.09090909090909091, \"rgb(25, 25, 51)\"], [0.18181818181818182, \"rgb(44, 42, 87)\"], [0.2727272727272727, \"rgb(58, 60, 125)\"], [0.36363636363636365, \"rgb(62, 83, 160)\"], [0.45454545454545453, \"rgb(62, 109, 178)\"], [0.5454545454545454, \"rgb(72, 134, 187)\"], [0.6363636363636364, \"rgb(89, 159, 196)\"], [0.7272727272727273, \"rgb(114, 184, 205)\"], [0.8181818181818182, \"rgb(149, 207, 216)\"], [0.9090909090909091, \"rgb(192, 229, 232)\"], [1.0, \"rgb(234, 252, 253)\"]], \"reversescale\": true, \"showscale\": true, \"type\": \"heatmap\", \"x\": [\"pred0\", \"pred1\"], \"y\": [\"true1\", \"true0\"], \"z\": [[4, 16], [8, 2]]}],\n",
              "                        {\"annotations\": [{\"font\": {\"color\": \"#000000\"}, \"showarrow\": false, \"text\": \"4\", \"x\": \"pred0\", \"xref\": \"x\", \"y\": \"true1\", \"yref\": \"y\"}, {\"font\": {\"color\": \"#FFFFFF\"}, \"showarrow\": false, \"text\": \"16\", \"x\": \"pred1\", \"xref\": \"x\", \"y\": \"true1\", \"yref\": \"y\"}, {\"font\": {\"color\": \"#000000\"}, \"showarrow\": false, \"text\": \"8\", \"x\": \"pred0\", \"xref\": \"x\", \"y\": \"true0\", \"yref\": \"y\"}, {\"font\": {\"color\": \"#000000\"}, \"showarrow\": false, \"text\": \"2\", \"x\": \"pred1\", \"xref\": \"x\", \"y\": \"true0\", \"yref\": \"y\"}], \"font\": {\"size\": 16}, \"height\": 500, \"template\": {\"data\": {\"bar\": [{\"error_x\": {\"color\": \"#2a3f5f\"}, \"error_y\": {\"color\": \"#2a3f5f\"}, \"marker\": {\"line\": {\"color\": \"#E5ECF6\", \"width\": 0.5}}, \"type\": \"bar\"}], \"barpolar\": [{\"marker\": {\"line\": {\"color\": \"#E5ECF6\", \"width\": 0.5}}, \"type\": \"barpolar\"}], \"carpet\": [{\"aaxis\": {\"endlinecolor\": \"#2a3f5f\", \"gridcolor\": \"white\", \"linecolor\": \"white\", \"minorgridcolor\": \"white\", \"startlinecolor\": \"#2a3f5f\"}, \"baxis\": {\"endlinecolor\": \"#2a3f5f\", \"gridcolor\": \"white\", \"linecolor\": \"white\", \"minorgridcolor\": \"white\", \"startlinecolor\": \"#2a3f5f\"}, \"type\": \"carpet\"}], \"choropleth\": [{\"colorbar\": {\"outlinewidth\": 0, \"ticks\": \"\"}, \"type\": \"choropleth\"}], \"contour\": [{\"colorbar\": {\"outlinewidth\": 0, \"ticks\": \"\"}, \"colorscale\": [[0.0, \"#0d0887\"], [0.1111111111111111, \"#46039f\"], [0.2222222222222222, \"#7201a8\"], [0.3333333333333333, \"#9c179e\"], [0.4444444444444444, \"#bd3786\"], [0.5555555555555556, \"#d8576b\"], [0.6666666666666666, \"#ed7953\"], [0.7777777777777778, \"#fb9f3a\"], [0.8888888888888888, \"#fdca26\"], [1.0, \"#f0f921\"]], \"type\": \"contour\"}], \"contourcarpet\": [{\"colorbar\": {\"outlinewidth\": 0, \"ticks\": \"\"}, \"type\": \"contourcarpet\"}], \"heatmap\": [{\"colorbar\": {\"outlinewidth\": 0, \"ticks\": \"\"}, \"colorscale\": [[0.0, \"#0d0887\"], [0.1111111111111111, \"#46039f\"], [0.2222222222222222, \"#7201a8\"], [0.3333333333333333, \"#9c179e\"], [0.4444444444444444, \"#bd3786\"], [0.5555555555555556, \"#d8576b\"], [0.6666666666666666, \"#ed7953\"], [0.7777777777777778, \"#fb9f3a\"], [0.8888888888888888, \"#fdca26\"], [1.0, \"#f0f921\"]], \"type\": \"heatmap\"}], \"heatmapgl\": [{\"colorbar\": {\"outlinewidth\": 0, \"ticks\": \"\"}, \"colorscale\": [[0.0, \"#0d0887\"], [0.1111111111111111, \"#46039f\"], [0.2222222222222222, \"#7201a8\"], [0.3333333333333333, \"#9c179e\"], [0.4444444444444444, \"#bd3786\"], [0.5555555555555556, \"#d8576b\"], [0.6666666666666666, \"#ed7953\"], [0.7777777777777778, \"#fb9f3a\"], [0.8888888888888888, \"#fdca26\"], [1.0, \"#f0f921\"]], \"type\": \"heatmapgl\"}], \"histogram\": [{\"marker\": {\"colorbar\": {\"outlinewidth\": 0, \"ticks\": \"\"}}, \"type\": \"histogram\"}], \"histogram2d\": [{\"colorbar\": {\"outlinewidth\": 0, \"ticks\": \"\"}, \"colorscale\": [[0.0, \"#0d0887\"], [0.1111111111111111, \"#46039f\"], [0.2222222222222222, \"#7201a8\"], [0.3333333333333333, \"#9c179e\"], [0.4444444444444444, \"#bd3786\"], [0.5555555555555556, \"#d8576b\"], [0.6666666666666666, \"#ed7953\"], [0.7777777777777778, \"#fb9f3a\"], [0.8888888888888888, \"#fdca26\"], [1.0, \"#f0f921\"]], \"type\": \"histogram2d\"}], \"histogram2dcontour\": [{\"colorbar\": {\"outlinewidth\": 0, \"ticks\": \"\"}, \"colorscale\": [[0.0, \"#0d0887\"], [0.1111111111111111, \"#46039f\"], [0.2222222222222222, \"#7201a8\"], [0.3333333333333333, \"#9c179e\"], [0.4444444444444444, \"#bd3786\"], [0.5555555555555556, \"#d8576b\"], [0.6666666666666666, \"#ed7953\"], [0.7777777777777778, \"#fb9f3a\"], [0.8888888888888888, \"#fdca26\"], [1.0, \"#f0f921\"]], \"type\": \"histogram2dcontour\"}], \"mesh3d\": [{\"colorbar\": {\"outlinewidth\": 0, \"ticks\": \"\"}, \"type\": \"mesh3d\"}], \"parcoords\": [{\"line\": {\"colorbar\": {\"outlinewidth\": 0, \"ticks\": \"\"}}, \"type\": \"parcoords\"}], \"pie\": [{\"automargin\": true, \"type\": \"pie\"}], \"scatter\": [{\"marker\": {\"colorbar\": {\"outlinewidth\": 0, \"ticks\": \"\"}}, \"type\": \"scatter\"}], \"scatter3d\": [{\"line\": {\"colorbar\": {\"outlinewidth\": 0, \"ticks\": \"\"}}, \"marker\": {\"colorbar\": {\"outlinewidth\": 0, \"ticks\": \"\"}}, \"type\": \"scatter3d\"}], \"scattercarpet\": [{\"marker\": {\"colorbar\": {\"outlinewidth\": 0, \"ticks\": \"\"}}, \"type\": \"scattercarpet\"}], \"scattergeo\": [{\"marker\": {\"colorbar\": {\"outlinewidth\": 0, \"ticks\": \"\"}}, \"type\": \"scattergeo\"}], \"scattergl\": [{\"marker\": {\"colorbar\": {\"outlinewidth\": 0, \"ticks\": \"\"}}, \"type\": \"scattergl\"}], \"scattermapbox\": [{\"marker\": {\"colorbar\": {\"outlinewidth\": 0, \"ticks\": \"\"}}, \"type\": \"scattermapbox\"}], \"scatterpolar\": [{\"marker\": {\"colorbar\": {\"outlinewidth\": 0, \"ticks\": \"\"}}, \"type\": \"scatterpolar\"}], \"scatterpolargl\": [{\"marker\": {\"colorbar\": {\"outlinewidth\": 0, \"ticks\": \"\"}}, \"type\": \"scatterpolargl\"}], \"scatterternary\": [{\"marker\": {\"colorbar\": {\"outlinewidth\": 0, \"ticks\": \"\"}}, \"type\": \"scatterternary\"}], \"surface\": [{\"colorbar\": {\"outlinewidth\": 0, \"ticks\": \"\"}, \"colorscale\": [[0.0, \"#0d0887\"], [0.1111111111111111, \"#46039f\"], [0.2222222222222222, \"#7201a8\"], [0.3333333333333333, \"#9c179e\"], [0.4444444444444444, \"#bd3786\"], [0.5555555555555556, \"#d8576b\"], [0.6666666666666666, \"#ed7953\"], [0.7777777777777778, \"#fb9f3a\"], [0.8888888888888888, \"#fdca26\"], [1.0, \"#f0f921\"]], \"type\": \"surface\"}], \"table\": [{\"cells\": {\"fill\": {\"color\": \"#EBF0F8\"}, \"line\": {\"color\": \"white\"}}, \"header\": {\"fill\": {\"color\": \"#C8D4E3\"}, \"line\": {\"color\": \"white\"}}, \"type\": \"table\"}]}, \"layout\": {\"annotationdefaults\": {\"arrowcolor\": \"#2a3f5f\", \"arrowhead\": 0, \"arrowwidth\": 1}, \"coloraxis\": {\"colorbar\": {\"outlinewidth\": 0, \"ticks\": \"\"}}, \"colorscale\": {\"diverging\": [[0, \"#8e0152\"], [0.1, \"#c51b7d\"], [0.2, \"#de77ae\"], [0.3, \"#f1b6da\"], [0.4, \"#fde0ef\"], [0.5, \"#f7f7f7\"], [0.6, \"#e6f5d0\"], [0.7, \"#b8e186\"], [0.8, \"#7fbc41\"], [0.9, \"#4d9221\"], [1, \"#276419\"]], \"sequential\": [[0.0, \"#0d0887\"], [0.1111111111111111, \"#46039f\"], [0.2222222222222222, \"#7201a8\"], [0.3333333333333333, \"#9c179e\"], [0.4444444444444444, \"#bd3786\"], [0.5555555555555556, \"#d8576b\"], [0.6666666666666666, \"#ed7953\"], [0.7777777777777778, \"#fb9f3a\"], [0.8888888888888888, \"#fdca26\"], [1.0, \"#f0f921\"]], \"sequentialminus\": [[0.0, \"#0d0887\"], [0.1111111111111111, \"#46039f\"], [0.2222222222222222, \"#7201a8\"], [0.3333333333333333, \"#9c179e\"], [0.4444444444444444, \"#bd3786\"], [0.5555555555555556, \"#d8576b\"], [0.6666666666666666, \"#ed7953\"], [0.7777777777777778, \"#fb9f3a\"], [0.8888888888888888, \"#fdca26\"], [1.0, \"#f0f921\"]]}, \"colorway\": [\"#636efa\", \"#EF553B\", \"#00cc96\", \"#ab63fa\", \"#FFA15A\", \"#19d3f3\", \"#FF6692\", \"#B6E880\", \"#FF97FF\", \"#FECB52\"], \"font\": {\"color\": \"#2a3f5f\"}, \"geo\": {\"bgcolor\": \"white\", \"lakecolor\": \"white\", \"landcolor\": \"#E5ECF6\", \"showlakes\": true, \"showland\": true, \"subunitcolor\": \"white\"}, \"hoverlabel\": {\"align\": \"left\"}, \"hovermode\": \"closest\", \"mapbox\": {\"style\": \"light\"}, \"paper_bgcolor\": \"white\", \"plot_bgcolor\": \"#E5ECF6\", \"polar\": {\"angularaxis\": {\"gridcolor\": \"white\", \"linecolor\": \"white\", \"ticks\": \"\"}, \"bgcolor\": \"#E5ECF6\", \"radialaxis\": {\"gridcolor\": \"white\", \"linecolor\": \"white\", \"ticks\": \"\"}}, \"scene\": {\"xaxis\": {\"backgroundcolor\": \"#E5ECF6\", \"gridcolor\": \"white\", \"gridwidth\": 2, \"linecolor\": \"white\", \"showbackground\": true, \"ticks\": \"\", \"zerolinecolor\": \"white\"}, \"yaxis\": {\"backgroundcolor\": \"#E5ECF6\", \"gridcolor\": \"white\", \"gridwidth\": 2, \"linecolor\": \"white\", \"showbackground\": true, \"ticks\": \"\", \"zerolinecolor\": \"white\"}, \"zaxis\": {\"backgroundcolor\": \"#E5ECF6\", \"gridcolor\": \"white\", \"gridwidth\": 2, \"linecolor\": \"white\", \"showbackground\": true, \"ticks\": \"\", \"zerolinecolor\": \"white\"}}, \"shapedefaults\": {\"line\": {\"color\": \"#2a3f5f\"}}, \"ternary\": {\"aaxis\": {\"gridcolor\": \"white\", \"linecolor\": \"white\", \"ticks\": \"\"}, \"baxis\": {\"gridcolor\": \"white\", \"linecolor\": \"white\", \"ticks\": \"\"}, \"bgcolor\": \"#E5ECF6\", \"caxis\": {\"gridcolor\": \"white\", \"linecolor\": \"white\", \"ticks\": \"\"}}, \"title\": {\"x\": 0.05}, \"xaxis\": {\"automargin\": true, \"gridcolor\": \"white\", \"linecolor\": \"white\", \"ticks\": \"\", \"title\": {\"standoff\": 15}, \"zerolinecolor\": \"white\", \"zerolinewidth\": 2}, \"yaxis\": {\"automargin\": true, \"gridcolor\": \"white\", \"linecolor\": \"white\", \"ticks\": \"\", \"title\": {\"standoff\": 15}, \"zerolinecolor\": \"white\", \"zerolinewidth\": 2}}}, \"title\": {\"text\": \"confusion matrix\"}, \"width\": 500, \"xaxis\": {\"dtick\": 1, \"gridcolor\": \"rgb(0, 0, 0)\", \"side\": \"top\", \"ticks\": \"\"}, \"yaxis\": {\"dtick\": 1, \"ticks\": \"\", \"ticksuffix\": \"  \"}},\n",
              "                        {\"responsive\": true}\n",
              "                    ).then(function(){\n",
              "                            \n",
              "var gd = document.getElementById('efc0c6d9-c95c-493d-bbb9-8d3222703ca6');\n",
              "var x = new MutationObserver(function (mutations, observer) {{\n",
              "        var display = window.getComputedStyle(gd).display;\n",
              "        if (!display || display === 'none') {{\n",
              "            console.log([gd, 'removed!']);\n",
              "            Plotly.purge(gd);\n",
              "            observer.disconnect();\n",
              "        }}\n",
              "}});\n",
              "\n",
              "// Listen for the removal of the full notebook cells\n",
              "var notebookContainer = gd.closest('#notebook-container');\n",
              "if (notebookContainer) {{\n",
              "    x.observe(notebookContainer, {childList: true});\n",
              "}}\n",
              "\n",
              "// Listen for the clearing of the current output cell\n",
              "var outputEl = gd.closest('.output');\n",
              "if (outputEl) {{\n",
              "    x.observe(outputEl, {childList: true});\n",
              "}}\n",
              "\n",
              "                        })\n",
              "                };\n",
              "                \n",
              "            </script>\n",
              "        </div>\n",
              "</body>\n",
              "</html>"
            ]
          },
          "metadata": {
            "tags": []
          }
        }
      ]
    },
    {
      "cell_type": "code",
      "metadata": {
        "id": "qpZj4-y09ZOM"
      },
      "source": [
        "# wiersze to wartości prawdziwe\n",
        "# kolumny to predykcje\n",
        "# pred0 było przewidzianie faktycznie w 8 przypadkach a w 2 się pomylił\n",
        "# pred1 było przewidzianie faktycznie w 16 przypadkach a w 4 się pomylił\n",
        "# model powinien dążyć do tego, aby przekątna macierzy była jak najwyższa a druga przekątna bliska 0\n",
        "# raczej nigdy model nie będzie w 100% dokładny\n",
        "# macierz raczej nigdy nie będzie symetryczna - pewne wartości będą bardziej / mniej istotne z punktu widzenia dokładności\n",
        "# true nagative, false positive, false negative, true positive"
      ],
      "execution_count": null,
      "outputs": []
    },
    {
      "cell_type": "code",
      "metadata": {
        "colab": {
          "base_uri": "https://localhost:8080/"
        },
        "id": "HblGrTHQI9vI",
        "outputId": "f94816ba-cac0-4324-871d-37e927020288"
      },
      "source": [
        "tn, fp, fn, tp = cm.ravel()\n",
        "print('true neg', tn)\n",
        "print('false pos', fp)\n",
        "print('false neg', fn)\n",
        "print('true pos', tp)"
      ],
      "execution_count": 29,
      "outputs": [
        {
          "output_type": "stream",
          "text": [
            "true neg 8\n",
            "false pos 2\n",
            "false neg 4\n",
            "true pos 16\n"
          ],
          "name": "stdout"
        }
      ]
    },
    {
      "cell_type": "code",
      "metadata": {
        "colab": {
          "base_uri": "https://localhost:8080/"
        },
        "id": "ID2te24PI--Q",
        "outputId": "15c67d55-e15a-4886-8e4a-f31bf097a518"
      },
      "source": [
        "# Type I error / błąd pierwszego rodzaju / False Positive Rate\n",
        "fpr = fp / (fp + tn)\n",
        "fpr"
      ],
      "execution_count": 30,
      "outputs": [
        {
          "output_type": "execute_result",
          "data": {
            "text/plain": [
              "0.2"
            ]
          },
          "metadata": {
            "tags": []
          },
          "execution_count": 30
        }
      ]
    },
    {
      "cell_type": "code",
      "metadata": {
        "colab": {
          "base_uri": "https://localhost:8080/"
        },
        "id": "1Zfh_iJoKDT4",
        "outputId": "25e98ac9-34ea-4668-ed18-ce7b6b3c65f1"
      },
      "source": [
        "# Type II error / False Negative Rate\n",
        "fnr = fn / (fn + tp)\n",
        "fnr"
      ],
      "execution_count": 32,
      "outputs": [
        {
          "output_type": "execute_result",
          "data": {
            "text/plain": [
              "0.2"
            ]
          },
          "metadata": {
            "tags": []
          },
          "execution_count": 32
        }
      ]
    },
    {
      "cell_type": "code",
      "metadata": {
        "colab": {
          "base_uri": "https://localhost:8080/"
        },
        "id": "2aCVemAcJ7xA",
        "outputId": "5c4783a4-d4f7-464c-95db-5d89bcf11947"
      },
      "source": [
        "# Precision - ile obserwacji przewidywanych jako pozytywne są w rzeczywistości pozytywne\n",
        "precision = tp / (tp + fp)\n",
        "precision.round(2)"
      ],
      "execution_count": 36,
      "outputs": [
        {
          "output_type": "execute_result",
          "data": {
            "text/plain": [
              "0.89"
            ]
          },
          "metadata": {
            "tags": []
          },
          "execution_count": 36
        }
      ]
    },
    {
      "cell_type": "code",
      "metadata": {
        "colab": {
          "base_uri": "https://localhost:8080/"
        },
        "id": "vfGDzq_5KeXB",
        "outputId": "013d3665-6083-4e25-a458-3cffdb6e46fc"
      },
      "source": [
        "# Recall = jak wiele obserwacji z wszystkich pozytywnych sklasyfikowalismy jako pozytywne\n",
        "recall = tp / (tp + fn)\n",
        "print(recall)"
      ],
      "execution_count": 37,
      "outputs": [
        {
          "output_type": "stream",
          "text": [
            "0.8\n"
          ],
          "name": "stdout"
        }
      ]
    },
    {
      "cell_type": "markdown",
      "metadata": {
        "id": "wF0xHkz6LErZ"
      },
      "source": [
        "krzywa ROC"
      ]
    },
    {
      "cell_type": "code",
      "metadata": {
        "id": "NQbsyt1jK0dA"
      },
      "source": [
        "from sklearn.metrics import roc_curve\n",
        "\n",
        "fpr, tpr, thresh = roc_curve(y_true, y_pred, pos_label=1)\n",
        "roc = pd.DataFrame({'fpr':fpr, 'tpr':tpr})"
      ],
      "execution_count": 40,
      "outputs": []
    },
    {
      "cell_type": "code",
      "metadata": {
        "colab": {
          "base_uri": "https://localhost:8080/",
          "height": 142
        },
        "id": "Ke22mpbtLN5J",
        "outputId": "1e65f300-28d2-49f6-9221-e2aa979d6aa7"
      },
      "source": [
        "roc"
      ],
      "execution_count": 41,
      "outputs": [
        {
          "output_type": "execute_result",
          "data": {
            "text/html": [
              "<div>\n",
              "<style scoped>\n",
              "    .dataframe tbody tr th:only-of-type {\n",
              "        vertical-align: middle;\n",
              "    }\n",
              "\n",
              "    .dataframe tbody tr th {\n",
              "        vertical-align: top;\n",
              "    }\n",
              "\n",
              "    .dataframe thead th {\n",
              "        text-align: right;\n",
              "    }\n",
              "</style>\n",
              "<table border=\"1\" class=\"dataframe\">\n",
              "  <thead>\n",
              "    <tr style=\"text-align: right;\">\n",
              "      <th></th>\n",
              "      <th>fpr</th>\n",
              "      <th>tpr</th>\n",
              "    </tr>\n",
              "  </thead>\n",
              "  <tbody>\n",
              "    <tr>\n",
              "      <th>0</th>\n",
              "      <td>0.0</td>\n",
              "      <td>0.0</td>\n",
              "    </tr>\n",
              "    <tr>\n",
              "      <th>1</th>\n",
              "      <td>0.2</td>\n",
              "      <td>0.8</td>\n",
              "    </tr>\n",
              "    <tr>\n",
              "      <th>2</th>\n",
              "      <td>1.0</td>\n",
              "      <td>1.0</td>\n",
              "    </tr>\n",
              "  </tbody>\n",
              "</table>\n",
              "</div>"
            ],
            "text/plain": [
              "   fpr  tpr\n",
              "0  0.0  0.0\n",
              "1  0.2  0.8\n",
              "2  1.0  1.0"
            ]
          },
          "metadata": {
            "tags": []
          },
          "execution_count": 41
        }
      ]
    },
    {
      "cell_type": "code",
      "metadata": {
        "id": "5SJMKUErLV2R"
      },
      "source": [
        "def plot_roc_curve(y_true, y_pred):\n",
        "  from sklearn.metrics import roc_curve\n",
        "  fpr, tpr, thresh = roc_curve(y_true, y_pred, pos_label=1)\n",
        "  roc = pd.DataFrame({'fpr':fpr, 'tpr':tpr})\n",
        "\n",
        "\n",
        "  fig = go.Figure(data=[go.Scatter(x=roc['fpr'], y=roc['tpr'], line_color='red', name='ROC Curve'),\n",
        "      go.Scatter(x=[0,1], y=[0,1], mode='lines', line_dash='dash', line_color='navy')],\n",
        "      layout=go.Layout(xaxis_title='False Positive Rate',\n",
        "                       yaxis_title='True Positive Rate',\n",
        "                       title='ROC Curve',\n",
        "                       showlegend=False,\n",
        "                       width=800))\n",
        "  fig.show()\n",
        "\n"
      ],
      "execution_count": 44,
      "outputs": []
    },
    {
      "cell_type": "code",
      "metadata": {
        "colab": {
          "base_uri": "https://localhost:8080/",
          "height": 542
        },
        "id": "OJoFMYxScF5b",
        "outputId": "dad33b4b-f89e-4bf2-e740-1e584bb09e3b"
      },
      "source": [
        "plot_roc_curve(y_true, y_pred)"
      ],
      "execution_count": 45,
      "outputs": [
        {
          "output_type": "display_data",
          "data": {
            "text/html": [
              "<html>\n",
              "<head><meta charset=\"utf-8\" /></head>\n",
              "<body>\n",
              "    <div>\n",
              "            <script src=\"https://cdnjs.cloudflare.com/ajax/libs/mathjax/2.7.5/MathJax.js?config=TeX-AMS-MML_SVG\"></script><script type=\"text/javascript\">if (window.MathJax) {MathJax.Hub.Config({SVG: {font: \"STIX-Web\"}});}</script>\n",
              "                <script type=\"text/javascript\">window.PlotlyConfig = {MathJaxConfig: 'local'};</script>\n",
              "        <script src=\"https://cdn.plot.ly/plotly-latest.min.js\"></script>    \n",
              "            <div id=\"59ccf639-a108-43d8-94a8-efff26725273\" class=\"plotly-graph-div\" style=\"height:525px; width:800px;\"></div>\n",
              "            <script type=\"text/javascript\">\n",
              "                \n",
              "                    window.PLOTLYENV=window.PLOTLYENV || {};\n",
              "                    \n",
              "                if (document.getElementById(\"59ccf639-a108-43d8-94a8-efff26725273\")) {\n",
              "                    Plotly.newPlot(\n",
              "                        '59ccf639-a108-43d8-94a8-efff26725273',\n",
              "                        [{\"line\": {\"color\": \"red\"}, \"name\": \"ROC Curve\", \"type\": \"scatter\", \"x\": [0.0, 0.2, 1.0], \"y\": [0.0, 0.8, 1.0]}, {\"line\": {\"color\": \"navy\", \"dash\": \"dash\"}, \"mode\": \"lines\", \"type\": \"scatter\", \"x\": [0, 1], \"y\": [0, 1]}],\n",
              "                        {\"showlegend\": false, \"template\": {\"data\": {\"bar\": [{\"error_x\": {\"color\": \"#2a3f5f\"}, \"error_y\": {\"color\": \"#2a3f5f\"}, \"marker\": {\"line\": {\"color\": \"#E5ECF6\", \"width\": 0.5}}, \"type\": \"bar\"}], \"barpolar\": [{\"marker\": {\"line\": {\"color\": \"#E5ECF6\", \"width\": 0.5}}, \"type\": \"barpolar\"}], \"carpet\": [{\"aaxis\": {\"endlinecolor\": \"#2a3f5f\", \"gridcolor\": \"white\", \"linecolor\": \"white\", \"minorgridcolor\": \"white\", \"startlinecolor\": \"#2a3f5f\"}, \"baxis\": {\"endlinecolor\": \"#2a3f5f\", \"gridcolor\": \"white\", \"linecolor\": \"white\", \"minorgridcolor\": \"white\", \"startlinecolor\": \"#2a3f5f\"}, \"type\": \"carpet\"}], \"choropleth\": [{\"colorbar\": {\"outlinewidth\": 0, \"ticks\": \"\"}, \"type\": \"choropleth\"}], \"contour\": [{\"colorbar\": {\"outlinewidth\": 0, \"ticks\": \"\"}, \"colorscale\": [[0.0, \"#0d0887\"], [0.1111111111111111, \"#46039f\"], [0.2222222222222222, \"#7201a8\"], [0.3333333333333333, \"#9c179e\"], [0.4444444444444444, \"#bd3786\"], [0.5555555555555556, \"#d8576b\"], [0.6666666666666666, \"#ed7953\"], [0.7777777777777778, \"#fb9f3a\"], [0.8888888888888888, \"#fdca26\"], [1.0, \"#f0f921\"]], \"type\": \"contour\"}], \"contourcarpet\": [{\"colorbar\": {\"outlinewidth\": 0, \"ticks\": \"\"}, \"type\": \"contourcarpet\"}], \"heatmap\": [{\"colorbar\": {\"outlinewidth\": 0, \"ticks\": \"\"}, \"colorscale\": [[0.0, \"#0d0887\"], [0.1111111111111111, \"#46039f\"], [0.2222222222222222, \"#7201a8\"], [0.3333333333333333, \"#9c179e\"], [0.4444444444444444, \"#bd3786\"], [0.5555555555555556, \"#d8576b\"], [0.6666666666666666, \"#ed7953\"], [0.7777777777777778, \"#fb9f3a\"], [0.8888888888888888, \"#fdca26\"], [1.0, \"#f0f921\"]], \"type\": \"heatmap\"}], \"heatmapgl\": [{\"colorbar\": {\"outlinewidth\": 0, \"ticks\": \"\"}, \"colorscale\": [[0.0, \"#0d0887\"], [0.1111111111111111, \"#46039f\"], [0.2222222222222222, \"#7201a8\"], [0.3333333333333333, \"#9c179e\"], [0.4444444444444444, \"#bd3786\"], [0.5555555555555556, \"#d8576b\"], [0.6666666666666666, \"#ed7953\"], [0.7777777777777778, \"#fb9f3a\"], [0.8888888888888888, \"#fdca26\"], [1.0, \"#f0f921\"]], \"type\": \"heatmapgl\"}], \"histogram\": [{\"marker\": {\"colorbar\": {\"outlinewidth\": 0, \"ticks\": \"\"}}, \"type\": \"histogram\"}], \"histogram2d\": [{\"colorbar\": {\"outlinewidth\": 0, \"ticks\": \"\"}, \"colorscale\": [[0.0, \"#0d0887\"], [0.1111111111111111, \"#46039f\"], [0.2222222222222222, \"#7201a8\"], [0.3333333333333333, \"#9c179e\"], [0.4444444444444444, \"#bd3786\"], [0.5555555555555556, \"#d8576b\"], [0.6666666666666666, \"#ed7953\"], [0.7777777777777778, \"#fb9f3a\"], [0.8888888888888888, \"#fdca26\"], [1.0, \"#f0f921\"]], \"type\": \"histogram2d\"}], \"histogram2dcontour\": [{\"colorbar\": {\"outlinewidth\": 0, \"ticks\": \"\"}, \"colorscale\": [[0.0, \"#0d0887\"], [0.1111111111111111, \"#46039f\"], [0.2222222222222222, \"#7201a8\"], [0.3333333333333333, \"#9c179e\"], [0.4444444444444444, \"#bd3786\"], [0.5555555555555556, \"#d8576b\"], [0.6666666666666666, \"#ed7953\"], [0.7777777777777778, \"#fb9f3a\"], [0.8888888888888888, \"#fdca26\"], [1.0, \"#f0f921\"]], \"type\": \"histogram2dcontour\"}], \"mesh3d\": [{\"colorbar\": {\"outlinewidth\": 0, \"ticks\": \"\"}, \"type\": \"mesh3d\"}], \"parcoords\": [{\"line\": {\"colorbar\": {\"outlinewidth\": 0, \"ticks\": \"\"}}, \"type\": \"parcoords\"}], \"pie\": [{\"automargin\": true, \"type\": \"pie\"}], \"scatter\": [{\"marker\": {\"colorbar\": {\"outlinewidth\": 0, \"ticks\": \"\"}}, \"type\": \"scatter\"}], \"scatter3d\": [{\"line\": {\"colorbar\": {\"outlinewidth\": 0, \"ticks\": \"\"}}, \"marker\": {\"colorbar\": {\"outlinewidth\": 0, \"ticks\": \"\"}}, \"type\": \"scatter3d\"}], \"scattercarpet\": [{\"marker\": {\"colorbar\": {\"outlinewidth\": 0, \"ticks\": \"\"}}, \"type\": \"scattercarpet\"}], \"scattergeo\": [{\"marker\": {\"colorbar\": {\"outlinewidth\": 0, \"ticks\": \"\"}}, \"type\": \"scattergeo\"}], \"scattergl\": [{\"marker\": {\"colorbar\": {\"outlinewidth\": 0, \"ticks\": \"\"}}, \"type\": \"scattergl\"}], \"scattermapbox\": [{\"marker\": {\"colorbar\": {\"outlinewidth\": 0, \"ticks\": \"\"}}, \"type\": \"scattermapbox\"}], \"scatterpolar\": [{\"marker\": {\"colorbar\": {\"outlinewidth\": 0, \"ticks\": \"\"}}, \"type\": \"scatterpolar\"}], \"scatterpolargl\": [{\"marker\": {\"colorbar\": {\"outlinewidth\": 0, \"ticks\": \"\"}}, \"type\": \"scatterpolargl\"}], \"scatterternary\": [{\"marker\": {\"colorbar\": {\"outlinewidth\": 0, \"ticks\": \"\"}}, \"type\": \"scatterternary\"}], \"surface\": [{\"colorbar\": {\"outlinewidth\": 0, \"ticks\": \"\"}, \"colorscale\": [[0.0, \"#0d0887\"], [0.1111111111111111, \"#46039f\"], [0.2222222222222222, \"#7201a8\"], [0.3333333333333333, \"#9c179e\"], [0.4444444444444444, \"#bd3786\"], [0.5555555555555556, \"#d8576b\"], [0.6666666666666666, \"#ed7953\"], [0.7777777777777778, \"#fb9f3a\"], [0.8888888888888888, \"#fdca26\"], [1.0, \"#f0f921\"]], \"type\": \"surface\"}], \"table\": [{\"cells\": {\"fill\": {\"color\": \"#EBF0F8\"}, \"line\": {\"color\": \"white\"}}, \"header\": {\"fill\": {\"color\": \"#C8D4E3\"}, \"line\": {\"color\": \"white\"}}, \"type\": \"table\"}]}, \"layout\": {\"annotationdefaults\": {\"arrowcolor\": \"#2a3f5f\", \"arrowhead\": 0, \"arrowwidth\": 1}, \"coloraxis\": {\"colorbar\": {\"outlinewidth\": 0, \"ticks\": \"\"}}, \"colorscale\": {\"diverging\": [[0, \"#8e0152\"], [0.1, \"#c51b7d\"], [0.2, \"#de77ae\"], [0.3, \"#f1b6da\"], [0.4, \"#fde0ef\"], [0.5, \"#f7f7f7\"], [0.6, \"#e6f5d0\"], [0.7, \"#b8e186\"], [0.8, \"#7fbc41\"], [0.9, \"#4d9221\"], [1, \"#276419\"]], \"sequential\": [[0.0, \"#0d0887\"], [0.1111111111111111, \"#46039f\"], [0.2222222222222222, \"#7201a8\"], [0.3333333333333333, \"#9c179e\"], [0.4444444444444444, \"#bd3786\"], [0.5555555555555556, \"#d8576b\"], [0.6666666666666666, \"#ed7953\"], [0.7777777777777778, \"#fb9f3a\"], [0.8888888888888888, \"#fdca26\"], [1.0, \"#f0f921\"]], \"sequentialminus\": [[0.0, \"#0d0887\"], [0.1111111111111111, \"#46039f\"], [0.2222222222222222, \"#7201a8\"], [0.3333333333333333, \"#9c179e\"], [0.4444444444444444, \"#bd3786\"], [0.5555555555555556, \"#d8576b\"], [0.6666666666666666, \"#ed7953\"], [0.7777777777777778, \"#fb9f3a\"], [0.8888888888888888, \"#fdca26\"], [1.0, \"#f0f921\"]]}, \"colorway\": [\"#636efa\", \"#EF553B\", \"#00cc96\", \"#ab63fa\", \"#FFA15A\", \"#19d3f3\", \"#FF6692\", \"#B6E880\", \"#FF97FF\", \"#FECB52\"], \"font\": {\"color\": \"#2a3f5f\"}, \"geo\": {\"bgcolor\": \"white\", \"lakecolor\": \"white\", \"landcolor\": \"#E5ECF6\", \"showlakes\": true, \"showland\": true, \"subunitcolor\": \"white\"}, \"hoverlabel\": {\"align\": \"left\"}, \"hovermode\": \"closest\", \"mapbox\": {\"style\": \"light\"}, \"paper_bgcolor\": \"white\", \"plot_bgcolor\": \"#E5ECF6\", \"polar\": {\"angularaxis\": {\"gridcolor\": \"white\", \"linecolor\": \"white\", \"ticks\": \"\"}, \"bgcolor\": \"#E5ECF6\", \"radialaxis\": {\"gridcolor\": \"white\", \"linecolor\": \"white\", \"ticks\": \"\"}}, \"scene\": {\"xaxis\": {\"backgroundcolor\": \"#E5ECF6\", \"gridcolor\": \"white\", \"gridwidth\": 2, \"linecolor\": \"white\", \"showbackground\": true, \"ticks\": \"\", \"zerolinecolor\": \"white\"}, \"yaxis\": {\"backgroundcolor\": \"#E5ECF6\", \"gridcolor\": \"white\", \"gridwidth\": 2, \"linecolor\": \"white\", \"showbackground\": true, \"ticks\": \"\", \"zerolinecolor\": \"white\"}, \"zaxis\": {\"backgroundcolor\": \"#E5ECF6\", \"gridcolor\": \"white\", \"gridwidth\": 2, \"linecolor\": \"white\", \"showbackground\": true, \"ticks\": \"\", \"zerolinecolor\": \"white\"}}, \"shapedefaults\": {\"line\": {\"color\": \"#2a3f5f\"}}, \"ternary\": {\"aaxis\": {\"gridcolor\": \"white\", \"linecolor\": \"white\", \"ticks\": \"\"}, \"baxis\": {\"gridcolor\": \"white\", \"linecolor\": \"white\", \"ticks\": \"\"}, \"bgcolor\": \"#E5ECF6\", \"caxis\": {\"gridcolor\": \"white\", \"linecolor\": \"white\", \"ticks\": \"\"}}, \"title\": {\"x\": 0.05}, \"xaxis\": {\"automargin\": true, \"gridcolor\": \"white\", \"linecolor\": \"white\", \"ticks\": \"\", \"title\": {\"standoff\": 15}, \"zerolinecolor\": \"white\", \"zerolinewidth\": 2}, \"yaxis\": {\"automargin\": true, \"gridcolor\": \"white\", \"linecolor\": \"white\", \"ticks\": \"\", \"title\": {\"standoff\": 15}, \"zerolinecolor\": \"white\", \"zerolinewidth\": 2}}}, \"title\": {\"text\": \"ROC Curve\"}, \"width\": 800, \"xaxis\": {\"title\": {\"text\": \"False Positive Rate\"}}, \"yaxis\": {\"title\": {\"text\": \"True Positive Rate\"}}},\n",
              "                        {\"responsive\": true}\n",
              "                    ).then(function(){\n",
              "                            \n",
              "var gd = document.getElementById('59ccf639-a108-43d8-94a8-efff26725273');\n",
              "var x = new MutationObserver(function (mutations, observer) {{\n",
              "        var display = window.getComputedStyle(gd).display;\n",
              "        if (!display || display === 'none') {{\n",
              "            console.log([gd, 'removed!']);\n",
              "            Plotly.purge(gd);\n",
              "            observer.disconnect();\n",
              "        }}\n",
              "}});\n",
              "\n",
              "// Listen for the removal of the full notebook cells\n",
              "var notebookContainer = gd.closest('#notebook-container');\n",
              "if (notebookContainer) {{\n",
              "    x.observe(notebookContainer, {childList: true});\n",
              "}}\n",
              "\n",
              "// Listen for the clearing of the current output cell\n",
              "var outputEl = gd.closest('.output');\n",
              "if (outputEl) {{\n",
              "    x.observe(outputEl, {childList: true});\n",
              "}}\n",
              "\n",
              "                        })\n",
              "                };\n",
              "                \n",
              "            </script>\n",
              "        </div>\n",
              "</body>\n",
              "</html>"
            ]
          },
          "metadata": {
            "tags": []
          }
        }
      ]
    },
    {
      "cell_type": "code",
      "metadata": {
        "id": "2K0SkdB4cR0K"
      },
      "source": [
        "# czerwona linia to model;\n",
        "# wybieramy ten model, który ma największe pole pod krzywą modelu losowego"
      ],
      "execution_count": null,
      "outputs": []
    },
    {
      "cell_type": "markdown",
      "metadata": {
        "id": "E_zGKyq5dTzh"
      },
      "source": [
        "Klasyfikacja wieloklasowa"
      ]
    },
    {
      "cell_type": "markdown",
      "metadata": {
        "id": "DC3ZOlsxdZaB"
      },
      "source": [
        "![image.png](data:image/png;base64,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)"
      ]
    },
    {
      "cell_type": "code",
      "metadata": {
        "colab": {
          "base_uri": "https://localhost:8080/"
        },
        "id": "iKvgtpSGdVZJ",
        "outputId": "087bd25a-b0c6-4417-e963-47b40668d7fb"
      },
      "source": [
        "y_true = np.array([1,0,1,2,1,0,1,1,0,1,0,1,1,0,2,1,1,2,2,1,0,1,1,0,2,1,1,2,2])\n",
        "y_pred = np.array([0,0,1,2,1,0,1,0,0,1,1,0,1,0,2,1,2,1,2,1,0,2,1,0,1,1,1,2,2])\n",
        "accuracy_score(y_true, y_pred).round(2)"
      ],
      "execution_count": 48,
      "outputs": [
        {
          "output_type": "execute_result",
          "data": {
            "text/plain": [
              "0.72"
            ]
          },
          "metadata": {
            "tags": []
          },
          "execution_count": 48
        }
      ]
    },
    {
      "cell_type": "markdown",
      "metadata": {
        "id": "uWVXZ8oOdzYq"
      },
      "source": [
        "Macierz konfuzji/pomyłek"
      ]
    },
    {
      "cell_type": "code",
      "metadata": {
        "colab": {
          "base_uri": "https://localhost:8080/"
        },
        "id": "lLjz6tXadqvI",
        "outputId": "c56455b2-97c5-4e65-d71d-730a8dbf7aa4"
      },
      "source": [
        "cm = confusion_matrix(y_true, y_pred)\n",
        "cm"
      ],
      "execution_count": 49,
      "outputs": [
        {
          "output_type": "execute_result",
          "data": {
            "text/plain": [
              "array([[ 6,  1,  0],\n",
              "       [ 3, 10,  2],\n",
              "       [ 0,  2,  5]])"
            ]
          },
          "metadata": {
            "tags": []
          },
          "execution_count": 49
        }
      ]
    },
    {
      "cell_type": "code",
      "metadata": {
        "colab": {
          "base_uri": "https://localhost:8080/",
          "height": 517
        },
        "id": "Yf6Ff5J3d4pa",
        "outputId": "91cc71ac-ae14-4823-95dc-e6a28e5416cd"
      },
      "source": [
        "def plot_confusion_matrix(cm):\n",
        "  cm = cm[::-1]\n",
        "  cm = pd.DataFrame(cm, columns=['pred0', 'pred1','pred2'], index=['true2', 'true1', 'true0'])\n",
        "\n",
        "  fig = ff.create_annotated_heatmap(z=cm.values, x=list(cm.columns), y=list(cm.index), colorscale='ice',\n",
        "                                    showscale=True, reversescale=True)\n",
        "  fig.update_layout(width=500, height=500, title='confusion matrix', font_size=16)\n",
        "  fig.show()\n",
        "\n",
        "plot_confusion_matrix(cm)"
      ],
      "execution_count": 50,
      "outputs": [
        {
          "output_type": "display_data",
          "data": {
            "text/html": [
              "<html>\n",
              "<head><meta charset=\"utf-8\" /></head>\n",
              "<body>\n",
              "    <div>\n",
              "            <script src=\"https://cdnjs.cloudflare.com/ajax/libs/mathjax/2.7.5/MathJax.js?config=TeX-AMS-MML_SVG\"></script><script type=\"text/javascript\">if (window.MathJax) {MathJax.Hub.Config({SVG: {font: \"STIX-Web\"}});}</script>\n",
              "                <script type=\"text/javascript\">window.PlotlyConfig = {MathJaxConfig: 'local'};</script>\n",
              "        <script src=\"https://cdn.plot.ly/plotly-latest.min.js\"></script>    \n",
              "            <div id=\"dc4c9093-be41-4ce4-bd21-d380980b7a36\" class=\"plotly-graph-div\" style=\"height:500px; width:500px;\"></div>\n",
              "            <script type=\"text/javascript\">\n",
              "                \n",
              "                    window.PLOTLYENV=window.PLOTLYENV || {};\n",
              "                    \n",
              "                if (document.getElementById(\"dc4c9093-be41-4ce4-bd21-d380980b7a36\")) {\n",
              "                    Plotly.newPlot(\n",
              "                        'dc4c9093-be41-4ce4-bd21-d380980b7a36',\n",
              "                        [{\"colorscale\": [[0.0, \"rgb(3, 5, 18)\"], [0.09090909090909091, \"rgb(25, 25, 51)\"], [0.18181818181818182, \"rgb(44, 42, 87)\"], [0.2727272727272727, \"rgb(58, 60, 125)\"], [0.36363636363636365, \"rgb(62, 83, 160)\"], [0.45454545454545453, \"rgb(62, 109, 178)\"], [0.5454545454545454, \"rgb(72, 134, 187)\"], [0.6363636363636364, \"rgb(89, 159, 196)\"], [0.7272727272727273, \"rgb(114, 184, 205)\"], [0.8181818181818182, \"rgb(149, 207, 216)\"], [0.9090909090909091, \"rgb(192, 229, 232)\"], [1.0, \"rgb(234, 252, 253)\"]], \"reversescale\": true, \"showscale\": true, \"type\": \"heatmap\", \"x\": [\"pred0\", \"pred1\", \"pred2\"], \"y\": [\"true2\", \"true1\", \"true0\"], \"z\": [[0, 2, 5], [3, 10, 2], [6, 1, 0]]}],\n",
              "                        {\"annotations\": [{\"font\": {\"color\": \"#000000\"}, \"showarrow\": false, \"text\": \"0\", \"x\": \"pred0\", \"xref\": \"x\", \"y\": \"true2\", \"yref\": \"y\"}, {\"font\": {\"color\": \"#000000\"}, \"showarrow\": false, \"text\": \"2\", \"x\": \"pred1\", \"xref\": \"x\", \"y\": \"true2\", \"yref\": \"y\"}, {\"font\": {\"color\": \"#FFFFFF\"}, \"showarrow\": false, \"text\": \"5\", \"x\": \"pred2\", \"xref\": \"x\", \"y\": \"true2\", \"yref\": \"y\"}, {\"font\": {\"color\": \"#000000\"}, \"showarrow\": false, \"text\": \"3\", \"x\": \"pred0\", \"xref\": \"x\", \"y\": \"true1\", \"yref\": \"y\"}, {\"font\": {\"color\": \"#FFFFFF\"}, \"showarrow\": false, \"text\": \"10\", \"x\": \"pred1\", \"xref\": \"x\", \"y\": \"true1\", \"yref\": \"y\"}, {\"font\": {\"color\": \"#000000\"}, \"showarrow\": false, \"text\": \"2\", \"x\": \"pred2\", \"xref\": \"x\", \"y\": \"true1\", \"yref\": \"y\"}, {\"font\": {\"color\": \"#FFFFFF\"}, \"showarrow\": false, \"text\": \"6\", \"x\": \"pred0\", \"xref\": \"x\", \"y\": \"true0\", \"yref\": \"y\"}, {\"font\": {\"color\": \"#000000\"}, \"showarrow\": false, \"text\": \"1\", \"x\": \"pred1\", \"xref\": \"x\", \"y\": \"true0\", \"yref\": \"y\"}, {\"font\": {\"color\": \"#000000\"}, \"showarrow\": false, \"text\": \"0\", \"x\": \"pred2\", \"xref\": \"x\", \"y\": \"true0\", \"yref\": \"y\"}], \"font\": {\"size\": 16}, \"height\": 500, \"template\": {\"data\": {\"bar\": [{\"error_x\": {\"color\": \"#2a3f5f\"}, \"error_y\": {\"color\": \"#2a3f5f\"}, \"marker\": {\"line\": {\"color\": \"#E5ECF6\", \"width\": 0.5}}, \"type\": \"bar\"}], \"barpolar\": [{\"marker\": {\"line\": {\"color\": \"#E5ECF6\", \"width\": 0.5}}, \"type\": \"barpolar\"}], \"carpet\": [{\"aaxis\": {\"endlinecolor\": \"#2a3f5f\", \"gridcolor\": \"white\", \"linecolor\": \"white\", \"minorgridcolor\": \"white\", \"startlinecolor\": \"#2a3f5f\"}, \"baxis\": {\"endlinecolor\": \"#2a3f5f\", \"gridcolor\": \"white\", \"linecolor\": \"white\", \"minorgridcolor\": \"white\", \"startlinecolor\": \"#2a3f5f\"}, \"type\": \"carpet\"}], \"choropleth\": [{\"colorbar\": {\"outlinewidth\": 0, \"ticks\": \"\"}, \"type\": \"choropleth\"}], \"contour\": [{\"colorbar\": {\"outlinewidth\": 0, \"ticks\": \"\"}, \"colorscale\": [[0.0, \"#0d0887\"], [0.1111111111111111, \"#46039f\"], [0.2222222222222222, \"#7201a8\"], [0.3333333333333333, \"#9c179e\"], [0.4444444444444444, \"#bd3786\"], [0.5555555555555556, \"#d8576b\"], [0.6666666666666666, \"#ed7953\"], [0.7777777777777778, \"#fb9f3a\"], [0.8888888888888888, \"#fdca26\"], [1.0, \"#f0f921\"]], \"type\": \"contour\"}], \"contourcarpet\": [{\"colorbar\": {\"outlinewidth\": 0, \"ticks\": \"\"}, \"type\": \"contourcarpet\"}], \"heatmap\": [{\"colorbar\": {\"outlinewidth\": 0, \"ticks\": \"\"}, \"colorscale\": [[0.0, \"#0d0887\"], [0.1111111111111111, \"#46039f\"], [0.2222222222222222, \"#7201a8\"], [0.3333333333333333, \"#9c179e\"], [0.4444444444444444, \"#bd3786\"], [0.5555555555555556, \"#d8576b\"], [0.6666666666666666, \"#ed7953\"], [0.7777777777777778, \"#fb9f3a\"], [0.8888888888888888, \"#fdca26\"], [1.0, \"#f0f921\"]], \"type\": \"heatmap\"}], \"heatmapgl\": [{\"colorbar\": {\"outlinewidth\": 0, \"ticks\": \"\"}, \"colorscale\": [[0.0, \"#0d0887\"], [0.1111111111111111, \"#46039f\"], [0.2222222222222222, \"#7201a8\"], [0.3333333333333333, \"#9c179e\"], [0.4444444444444444, \"#bd3786\"], [0.5555555555555556, \"#d8576b\"], [0.6666666666666666, \"#ed7953\"], [0.7777777777777778, \"#fb9f3a\"], [0.8888888888888888, \"#fdca26\"], [1.0, \"#f0f921\"]], \"type\": \"heatmapgl\"}], \"histogram\": [{\"marker\": {\"colorbar\": {\"outlinewidth\": 0, \"ticks\": \"\"}}, \"type\": \"histogram\"}], \"histogram2d\": [{\"colorbar\": {\"outlinewidth\": 0, \"ticks\": \"\"}, \"colorscale\": [[0.0, \"#0d0887\"], [0.1111111111111111, \"#46039f\"], [0.2222222222222222, \"#7201a8\"], [0.3333333333333333, \"#9c179e\"], [0.4444444444444444, \"#bd3786\"], [0.5555555555555556, \"#d8576b\"], [0.6666666666666666, \"#ed7953\"], [0.7777777777777778, \"#fb9f3a\"], [0.8888888888888888, \"#fdca26\"], [1.0, \"#f0f921\"]], \"type\": \"histogram2d\"}], \"histogram2dcontour\": [{\"colorbar\": {\"outlinewidth\": 0, \"ticks\": \"\"}, \"colorscale\": [[0.0, \"#0d0887\"], [0.1111111111111111, \"#46039f\"], [0.2222222222222222, \"#7201a8\"], [0.3333333333333333, \"#9c179e\"], [0.4444444444444444, \"#bd3786\"], [0.5555555555555556, \"#d8576b\"], [0.6666666666666666, \"#ed7953\"], [0.7777777777777778, \"#fb9f3a\"], [0.8888888888888888, \"#fdca26\"], [1.0, \"#f0f921\"]], \"type\": \"histogram2dcontour\"}], \"mesh3d\": [{\"colorbar\": {\"outlinewidth\": 0, \"ticks\": \"\"}, \"type\": \"mesh3d\"}], \"parcoords\": [{\"line\": {\"colorbar\": {\"outlinewidth\": 0, \"ticks\": \"\"}}, \"type\": \"parcoords\"}], \"pie\": [{\"automargin\": true, \"type\": \"pie\"}], \"scatter\": [{\"marker\": {\"colorbar\": {\"outlinewidth\": 0, \"ticks\": \"\"}}, \"type\": \"scatter\"}], \"scatter3d\": [{\"line\": {\"colorbar\": {\"outlinewidth\": 0, \"ticks\": \"\"}}, \"marker\": {\"colorbar\": {\"outlinewidth\": 0, \"ticks\": \"\"}}, \"type\": \"scatter3d\"}], \"scattercarpet\": [{\"marker\": {\"colorbar\": {\"outlinewidth\": 0, \"ticks\": \"\"}}, \"type\": \"scattercarpet\"}], \"scattergeo\": [{\"marker\": {\"colorbar\": {\"outlinewidth\": 0, \"ticks\": \"\"}}, \"type\": \"scattergeo\"}], \"scattergl\": [{\"marker\": {\"colorbar\": {\"outlinewidth\": 0, \"ticks\": \"\"}}, \"type\": \"scattergl\"}], \"scattermapbox\": [{\"marker\": {\"colorbar\": {\"outlinewidth\": 0, \"ticks\": \"\"}}, \"type\": \"scattermapbox\"}], \"scatterpolar\": [{\"marker\": {\"colorbar\": {\"outlinewidth\": 0, \"ticks\": \"\"}}, \"type\": \"scatterpolar\"}], \"scatterpolargl\": [{\"marker\": {\"colorbar\": {\"outlinewidth\": 0, \"ticks\": \"\"}}, \"type\": \"scatterpolargl\"}], \"scatterternary\": [{\"marker\": {\"colorbar\": {\"outlinewidth\": 0, \"ticks\": \"\"}}, \"type\": \"scatterternary\"}], \"surface\": [{\"colorbar\": {\"outlinewidth\": 0, \"ticks\": \"\"}, \"colorscale\": [[0.0, \"#0d0887\"], [0.1111111111111111, \"#46039f\"], [0.2222222222222222, \"#7201a8\"], [0.3333333333333333, \"#9c179e\"], [0.4444444444444444, \"#bd3786\"], [0.5555555555555556, \"#d8576b\"], [0.6666666666666666, \"#ed7953\"], [0.7777777777777778, \"#fb9f3a\"], [0.8888888888888888, \"#fdca26\"], [1.0, \"#f0f921\"]], \"type\": \"surface\"}], \"table\": [{\"cells\": {\"fill\": {\"color\": \"#EBF0F8\"}, \"line\": {\"color\": \"white\"}}, \"header\": {\"fill\": {\"color\": \"#C8D4E3\"}, \"line\": {\"color\": \"white\"}}, \"type\": \"table\"}]}, \"layout\": {\"annotationdefaults\": {\"arrowcolor\": \"#2a3f5f\", \"arrowhead\": 0, \"arrowwidth\": 1}, \"coloraxis\": {\"colorbar\": {\"outlinewidth\": 0, \"ticks\": \"\"}}, \"colorscale\": {\"diverging\": [[0, \"#8e0152\"], [0.1, \"#c51b7d\"], [0.2, \"#de77ae\"], [0.3, \"#f1b6da\"], [0.4, \"#fde0ef\"], [0.5, \"#f7f7f7\"], [0.6, \"#e6f5d0\"], [0.7, \"#b8e186\"], [0.8, \"#7fbc41\"], [0.9, \"#4d9221\"], [1, \"#276419\"]], \"sequential\": [[0.0, \"#0d0887\"], [0.1111111111111111, \"#46039f\"], [0.2222222222222222, \"#7201a8\"], [0.3333333333333333, \"#9c179e\"], [0.4444444444444444, \"#bd3786\"], [0.5555555555555556, \"#d8576b\"], [0.6666666666666666, \"#ed7953\"], [0.7777777777777778, \"#fb9f3a\"], [0.8888888888888888, \"#fdca26\"], [1.0, \"#f0f921\"]], \"sequentialminus\": [[0.0, \"#0d0887\"], [0.1111111111111111, \"#46039f\"], [0.2222222222222222, \"#7201a8\"], [0.3333333333333333, \"#9c179e\"], [0.4444444444444444, \"#bd3786\"], [0.5555555555555556, \"#d8576b\"], [0.6666666666666666, \"#ed7953\"], [0.7777777777777778, \"#fb9f3a\"], [0.8888888888888888, \"#fdca26\"], [1.0, \"#f0f921\"]]}, \"colorway\": [\"#636efa\", \"#EF553B\", \"#00cc96\", \"#ab63fa\", \"#FFA15A\", \"#19d3f3\", \"#FF6692\", \"#B6E880\", \"#FF97FF\", \"#FECB52\"], \"font\": {\"color\": \"#2a3f5f\"}, \"geo\": {\"bgcolor\": \"white\", \"lakecolor\": \"white\", \"landcolor\": \"#E5ECF6\", \"showlakes\": true, \"showland\": true, \"subunitcolor\": \"white\"}, \"hoverlabel\": {\"align\": \"left\"}, \"hovermode\": \"closest\", \"mapbox\": {\"style\": \"light\"}, \"paper_bgcolor\": \"white\", \"plot_bgcolor\": \"#E5ECF6\", \"polar\": {\"angularaxis\": {\"gridcolor\": \"white\", \"linecolor\": \"white\", \"ticks\": \"\"}, \"bgcolor\": \"#E5ECF6\", \"radialaxis\": {\"gridcolor\": \"white\", \"linecolor\": \"white\", \"ticks\": \"\"}}, \"scene\": {\"xaxis\": {\"backgroundcolor\": \"#E5ECF6\", \"gridcolor\": \"white\", \"gridwidth\": 2, \"linecolor\": \"white\", \"showbackground\": true, \"ticks\": \"\", \"zerolinecolor\": \"white\"}, \"yaxis\": {\"backgroundcolor\": \"#E5ECF6\", \"gridcolor\": \"white\", \"gridwidth\": 2, \"linecolor\": \"white\", \"showbackground\": true, \"ticks\": \"\", \"zerolinecolor\": \"white\"}, \"zaxis\": {\"backgroundcolor\": \"#E5ECF6\", \"gridcolor\": \"white\", \"gridwidth\": 2, \"linecolor\": \"white\", \"showbackground\": true, \"ticks\": \"\", \"zerolinecolor\": \"white\"}}, \"shapedefaults\": {\"line\": {\"color\": \"#2a3f5f\"}}, \"ternary\": {\"aaxis\": {\"gridcolor\": \"white\", \"linecolor\": \"white\", \"ticks\": \"\"}, \"baxis\": {\"gridcolor\": \"white\", \"linecolor\": \"white\", \"ticks\": \"\"}, \"bgcolor\": \"#E5ECF6\", \"caxis\": {\"gridcolor\": \"white\", \"linecolor\": \"white\", \"ticks\": \"\"}}, \"title\": {\"x\": 0.05}, \"xaxis\": {\"automargin\": true, \"gridcolor\": \"white\", \"linecolor\": \"white\", \"ticks\": \"\", \"title\": {\"standoff\": 15}, \"zerolinecolor\": \"white\", \"zerolinewidth\": 2}, \"yaxis\": {\"automargin\": true, \"gridcolor\": \"white\", \"linecolor\": \"white\", \"ticks\": \"\", \"title\": {\"standoff\": 15}, \"zerolinecolor\": \"white\", \"zerolinewidth\": 2}}}, \"title\": {\"text\": \"confusion matrix\"}, \"width\": 500, \"xaxis\": {\"dtick\": 1, \"gridcolor\": \"rgb(0, 0, 0)\", \"side\": \"top\", \"ticks\": \"\"}, \"yaxis\": {\"dtick\": 1, \"ticks\": \"\", \"ticksuffix\": \"  \"}},\n",
              "                        {\"responsive\": true}\n",
              "                    ).then(function(){\n",
              "                            \n",
              "var gd = document.getElementById('dc4c9093-be41-4ce4-bd21-d380980b7a36');\n",
              "var x = new MutationObserver(function (mutations, observer) {{\n",
              "        var display = window.getComputedStyle(gd).display;\n",
              "        if (!display || display === 'none') {{\n",
              "            console.log([gd, 'removed!']);\n",
              "            Plotly.purge(gd);\n",
              "            observer.disconnect();\n",
              "        }}\n",
              "}});\n",
              "\n",
              "// Listen for the removal of the full notebook cells\n",
              "var notebookContainer = gd.closest('#notebook-container');\n",
              "if (notebookContainer) {{\n",
              "    x.observe(notebookContainer, {childList: true});\n",
              "}}\n",
              "\n",
              "// Listen for the clearing of the current output cell\n",
              "var outputEl = gd.closest('.output');\n",
              "if (outputEl) {{\n",
              "    x.observe(outputEl, {childList: true});\n",
              "}}\n",
              "\n",
              "                        })\n",
              "                };\n",
              "                \n",
              "            </script>\n",
              "        </div>\n",
              "</body>\n",
              "</html>"
            ]
          },
          "metadata": {
            "tags": []
          }
        }
      ]
    },
    {
      "cell_type": "markdown",
      "metadata": {
        "id": "RsIg3eTfefwS"
      },
      "source": [
        "raport klasyfikacji"
      ]
    },
    {
      "cell_type": "code",
      "metadata": {
        "id": "BhCOV6exeMHC"
      },
      "source": [
        "from sklearn.metrics import classification_report"
      ],
      "execution_count": 51,
      "outputs": []
    },
    {
      "cell_type": "code",
      "metadata": {
        "colab": {
          "base_uri": "https://localhost:8080/"
        },
        "id": "Z7XLYqZlejST",
        "outputId": "5e90a3ec-2e7d-4714-b786-13e4870bbc2b"
      },
      "source": [
        "print(classification_report(y_true, y_pred))"
      ],
      "execution_count": 52,
      "outputs": [
        {
          "output_type": "stream",
          "text": [
            "              precision    recall  f1-score   support\n",
            "\n",
            "           0       0.67      0.86      0.75         7\n",
            "           1       0.77      0.67      0.71        15\n",
            "           2       0.71      0.71      0.71         7\n",
            "\n",
            "    accuracy                           0.72        29\n",
            "   macro avg       0.72      0.75      0.73        29\n",
            "weighted avg       0.73      0.72      0.72        29\n",
            "\n"
          ],
          "name": "stdout"
        }
      ]
    },
    {
      "cell_type": "code",
      "metadata": {
        "colab": {
          "base_uri": "https://localhost:8080/"
        },
        "id": "sX5mPoeXemM6",
        "outputId": "b4109653-2c9e-4882-ca59-dc1dbb100ba5"
      },
      "source": [
        "print(classification_report(y_true, y_pred, target_names=['label1', 'label2', 'label3']))"
      ],
      "execution_count": 54,
      "outputs": [
        {
          "output_type": "stream",
          "text": [
            "              precision    recall  f1-score   support\n",
            "\n",
            "      label1       0.67      0.86      0.75         7\n",
            "      label2       0.77      0.67      0.71        15\n",
            "      label3       0.71      0.71      0.71         7\n",
            "\n",
            "    accuracy                           0.72        29\n",
            "   macro avg       0.72      0.75      0.73        29\n",
            "weighted avg       0.73      0.72      0.72        29\n",
            "\n"
          ],
          "name": "stdout"
        }
      ]
    },
    {
      "cell_type": "code",
      "metadata": {
        "id": "47DGMlq1eyqi"
      },
      "source": [
        ""
      ],
      "execution_count": null,
      "outputs": []
    }
  ]
}